{
 "cells": [
  {
   "cell_type": "markdown",
   "id": "numerical-squad",
   "metadata": {},
   "source": [
    "# 関連キーワードの取得 "
   ]
  },
  {
   "cell_type": "code",
   "execution_count": 1,
   "id": "received-alliance",
   "metadata": {},
   "outputs": [],
   "source": [
    "# ブラウザを自動操作するためseleniumをimport\n",
    "from selenium import webdriver\n",
    "\n",
    "# seleniumでEnterキーを送信する際に使用するのでimport\n",
    "from selenium.webdriver.common.keys import Keys\n",
    "\n",
    "# seleniumでヘッドレスモードを指定するためにimport\n",
    "from selenium.webdriver.chrome.options import Options\n",
    "\n",
    "# 待ち時間を指定するためにtimeをimport\n",
    "import time"
   ]
  },
  {
   "cell_type": "markdown",
   "id": "inner-driver",
   "metadata": {},
   "source": [
    "# Googleスプレッドシートのキーワードを取得"
   ]
  },
  {
   "cell_type": "code",
   "execution_count": 2,
   "id": "other-development",
   "metadata": {},
   "outputs": [],
   "source": [
    "import os\n",
    "import json\n",
    "from requests_oauthlib import OAuth1Session\n",
    "from dotenv import find_dotenv, load_dotenv\n",
    "# グーグルスプレッドシートを操作する為にimport\n",
    "import gspread\n",
    "\n",
    "# グーグルスプレッドシートの認証情報設定の為にimport\n",
    "from google.oauth2.service_account import Credentials"
   ]
  },
  {
   "cell_type": "markdown",
   "id": "electrical-anger",
   "metadata": {},
   "source": [
    "Googleスプレッドシートのキーワードを取得"
   ]
  },
  {
   "cell_type": "code",
   "execution_count": 3,
   "id": "concerned-despite",
   "metadata": {},
   "outputs": [
    {
     "name": "stdout",
     "output_type": "stream",
     "text": [
      "C:\\Users\\kusumurt\\Desktop\\jupyter\\20210224_related_keyword\\.env\n"
     ]
    }
   ],
   "source": [
    "env_file = find_dotenv()\n",
    "\n",
    "load_dotenv(env_file)  # .envファイルを探して読み込む\n",
    "\n",
    "print(env_file)"
   ]
  },
  {
   "cell_type": "code",
   "execution_count": 4,
   "id": "outstanding-alert",
   "metadata": {},
   "outputs": [
    {
     "name": "stdout",
     "output_type": "stream",
     "text": [
      "15p83yn0ecuo3UHnfQiZk-j7frY3whYYAM-pD6lVbYGQ <class 'str'>\n"
     ]
    }
   ],
   "source": [
    "SPREADSHEET_KEY = os.environ.get('SPREADSHEET_KEY')\n",
    "\n",
    "print(SPREADSHEET_KEY,type(SPREADSHEET_KEY))"
   ]
  },
  {
   "cell_type": "code",
   "execution_count": 6,
   "id": "digital-lotus",
   "metadata": {},
   "outputs": [],
   "source": [
    "# 認証情報設定\n",
    "\n",
    "# 2つのAPIを記述しないとリフレッシュトークンを3600秒毎に発行し続けなければならない\n",
    "scopes = [\n",
    "    'https://www.googleapis.com/auth/spreadsheets',\n",
    "    'https://www.googleapis.com/auth/drive'\n",
    "]\n",
    "\n",
    "\n",
    "\n",
    "# ダウンロードしたjsonファイル名をクレデンシャル変数に設定（秘密鍵、Pythonファイルから読み込みしやすい位置に置く）\n",
    "#※Pythonファイルと同じ位置にjsonファイルを置く\n",
    "credentials = Credentials.from_service_account_file(\n",
    "    'spreadsheet-test.json',\n",
    "    scopes=scopes\n",
    ")\n",
    "# OAuth2の資格情報を使用してGoogleAPIにログイン\n",
    "gc = gspread.authorize(credentials)"
   ]
  },
  {
   "cell_type": "code",
   "execution_count": 7,
   "id": "stylish-million",
   "metadata": {},
   "outputs": [
    {
     "data": {
      "text/plain": [
       "['エアバッグ', 'シートベルト', 'タカタ', '特許', '筋トレ', '脱毛']"
      ]
     },
     "execution_count": 7,
     "metadata": {},
     "output_type": "execute_result"
    }
   ],
   "source": [
    "#共有設定したスプレッドシートのワークブックを開く\n",
    "workbook = gc.open_by_key(SPREADSHEET_KEY)\n",
    "\n",
    "# ワークシートを開く\n",
    "worksheet = workbook.worksheet('キーワードリスト')\n",
    "\n",
    "#セルの値を行で取得\n",
    "keyword_list = worksheet.col_values(2)[1:]\n",
    "keyword_list"
   ]
  },
  {
   "cell_type": "code",
   "execution_count": 7,
   "id": "banner-batch",
   "metadata": {},
   "outputs": [
    {
     "data": {
      "text/plain": [
       "'エアバッグ'"
      ]
     },
     "execution_count": 7,
     "metadata": {},
     "output_type": "execute_result"
    }
   ],
   "source": [
    "# keyword\n",
    "keyword = keyword_list[0]\n",
    "keyword"
   ]
  },
  {
   "cell_type": "markdown",
   "id": "allied-folks",
   "metadata": {},
   "source": [
    "# キーワードごとにフォルダを作成"
   ]
  },
  {
   "cell_type": "code",
   "execution_count": 8,
   "id": "sapphire-period",
   "metadata": {},
   "outputs": [
    {
     "data": {
      "text/plain": [
       "'C:\\\\Users\\\\kusumurt\\\\Desktop\\\\jupyter\\\\20210224_related_keyword'"
      ]
     },
     "execution_count": 8,
     "metadata": {},
     "output_type": "execute_result"
    }
   ],
   "source": [
    "import os\n",
    "\n",
    "PWD = os.getcwd()\n",
    "PWD"
   ]
  },
  {
   "cell_type": "code",
   "execution_count": 9,
   "id": "unlimited-paper",
   "metadata": {},
   "outputs": [
    {
     "data": {
      "text/plain": [
       "'C:\\\\Users\\\\kusumurt\\\\Desktop\\\\jupyter\\\\20210224_related_keyword\\\\エアバッグ'"
      ]
     },
     "execution_count": 9,
     "metadata": {},
     "output_type": "execute_result"
    }
   ],
   "source": [
    "file_make = f'{PWD}\\{keyword}'\n",
    "file_make"
   ]
  },
  {
   "cell_type": "code",
   "execution_count": 15,
   "id": "interracial-directive",
   "metadata": {},
   "outputs": [],
   "source": [
    "file_make = f'{PWD}\\{keyword}'\n",
    "if not os.path.exists(file_make):\n",
    "    os.mkdir(file_make)"
   ]
  },
  {
   "cell_type": "code",
   "execution_count": 17,
   "id": "middle-example",
   "metadata": {},
   "outputs": [
    {
     "data": {
      "text/plain": [
       "'C:\\\\Users\\\\kusumurt\\\\Desktop\\\\jupyter\\\\20210224_related_keyword\\\\エアバッグ'"
      ]
     },
     "execution_count": 17,
     "metadata": {},
     "output_type": "execute_result"
    }
   ],
   "source": [
    "file_make"
   ]
  },
  {
   "cell_type": "markdown",
   "id": "lyric-dressing",
   "metadata": {},
   "source": [
    "- 関連キーワード\n",
    "- ニュース記事\n",
    "- 共起語\n",
    "- 連想語\n",
    "- 類語・同義語\n",
    "- googleトレンドのURLを取得"
   ]
  },
  {
   "cell_type": "code",
   "execution_count": 18,
   "id": "hidden-realtor",
   "metadata": {},
   "outputs": [
    {
     "name": "stdout",
     "output_type": "stream",
     "text": [
      "C:\\Users\\kusumurt\\Desktop\\jupyter\\20210224_related_keyword\\エアバッグ\n"
     ]
    }
   ],
   "source": [
    "# seleniumで自動操作するブラウザはGoogleChrome\n",
    "# Optionsオブジェクトを作成\n",
    "options = Options()\n",
    "# ヘッドレスモードを有効にする\n",
    "# options.add_argument('--headless')\n",
    "\n",
    "# Seleniumでダウンロードするデフォルトディレクトリ\n",
    "download_directory = file_make\n",
    "\n",
    "# クロームオプションの設定\n",
    "options = webdriver.ChromeOptions()\n",
    "\n",
    "print(download_directory)\n",
    "# デフォルトのダウンロードディレクトリの指定\n",
    "prefs = {\"download.default_directory\" : download_directory}  \n",
    "\n",
    "# オプションを指定してクロームドライバーの起動\n",
    "options.add_experimental_option(\"prefs\", prefs)\n",
    "\n",
    "# ChromeのWebDriverオブジェクトを作成\n",
    "# driver = webdriver.Chrome(options=Options)\n",
    "driver = webdriver.Chrome(options=options, executable_path=\"chromedriver.exe\")"
   ]
  },
  {
   "cell_type": "code",
   "execution_count": 21,
   "id": "electronic-afternoon",
   "metadata": {},
   "outputs": [
    {
     "name": "stdout",
     "output_type": "stream",
     "text": [
      "C:\\Users\\kusumurt\\Desktop\\jupyter\\20210224_related_keyword\\エアバッグ\n"
     ]
    }
   ],
   "source": [
    "# seleniumで自動操作するブラウザはGoogleChrome\n",
    "# Optionsオブジェクトを作成\n",
    "options = Options()\n",
    "# ヘッドレスモードを有効にする\n",
    "# options.add_argument('--headless')\n",
    "\n",
    "# Seleniumでダウンロードするデフォルトディレクトリ\n",
    "download_directory = file_make\n",
    "\n",
    "# クロームオプションの設定\n",
    "options = webdriver.ChromeOptions()\n",
    "\n",
    "# デフォルトのダウンロードディレクトリの指定\n",
    "prefs = {\"download.default_directory\" : download_directory}  \n",
    "\n",
    "# オプションを指定してクロームドライバーの起動\n",
    "options.add_experimental_option(\"prefs\", prefs)\n",
    "\n",
    "# ChromeのWebDriverオブジェクトを作成\n",
    "# driver = webdriver.Chrome(options=Options)\n",
    "driver = webdriver.Chrome(options=options, executable_path=\"chromedriver.exe\")\n",
    "\n",
    "# 関連キーワード（ラックキーワード）\n",
    "URL_related = f'https://related-keywords.com/result/suggest?q={keyword_list[0]}'\n",
    "URL_news = f'https://related-keywords.com/result/news?q={keyword_list[1]}'\n",
    "URL_googletrend = f'https://related-keywords.com/result/trend?q={keyword_list[0]}'\n",
    "URL_cooccurrence = f'https://related-keywords.com/result/cooccurrence?q={keyword_list[0]}'\n",
    "URL_similarity = f'https://related-keywords.com/result/similarityAndAssociation?q={keyword_list[0]}'\n",
    "URL_synonym = f'https://related-keywords.com/result/synonym?q={keyword_list[0]}'\n",
    "\n",
    "# 関連キーワード（ラックキーワード）\n",
    "# 2秒待機（読み込みのため）\n",
    "driver.get(URL_news)\n",
    "time.sleep(2)"
   ]
  },
  {
   "cell_type": "code",
   "execution_count": 23,
   "id": "ecological-millennium",
   "metadata": {},
   "outputs": [
    {
     "name": "stdout",
     "output_type": "stream",
     "text": [
      "C:\\Users\\kusumurt\\Desktop\\jupyter\\20210224_related_keyword\\エアバッグ\n"
     ]
    }
   ],
   "source": [
    "# seleniumで自動操作するブラウザはGoogleChrome\n",
    "# Optionsオブジェクトを作成\n",
    "options = Options()\n",
    "# ヘッドレスモードを有効にする\n",
    "# options.add_argument('--headless')\n",
    "\n",
    "# Seleniumでダウンロードするデフォルトディレクトリ\n",
    "download_directory = file_make\n",
    "\n",
    "# クロームオプションの設定\n",
    "options = webdriver.ChromeOptions()\n",
    "\n",
    "print(download_directory)\n",
    "# デフォルトのダウンロードディレクトリの指定\n",
    "prefs = {\"download.default_directory\" : download_directory}  \n",
    "\n",
    "# オプションを指定してクロームドライバーの起動\n",
    "options.add_experimental_option(\"prefs\", prefs)\n",
    "\n",
    "# ChromeのWebDriverオブジェクトを作成\n",
    "# driver = webdriver.Chrome(options=Options)\n",
    "driver = webdriver.Chrome(options=options, executable_path=\"chromedriver.exe\")\n",
    "\n",
    "# 関連キーワード（ラックキーワード）\n",
    "URL_related = f'https://related-keywords.com/result/suggest?q={keyword_list[0]}'\n",
    "URL_news = f'https://related-keywords.com/result/news?q={keyword_list[0]}'\n",
    "URL_googletrend = f'https://related-keywords.com/result/trend?q={keyword_list[0]}'\n",
    "URL_cooccurrence = f'https://related-keywords.com/result/cooccurrence?q={keyword_list[0]}'\n",
    "URL_similarity = f'https://related-keywords.com/result/similarityAndAssociation?q={keyword_list[0]}'\n",
    "URL_synonym = f'https://related-keywords.com/result/synonym?q={keyword_list[0]}'\n",
    "\n",
    "# 関連キーワード（ラックキーワード）\n",
    "# 2秒待機（読み込みのため）\n",
    "driver.get(URL_related)\n",
    "time.sleep(2)\n",
    "\n",
    "# # csvファイルの出力\n",
    "driver.find_elements_by_class_name('sc-1kt4t6s-8')[1].click()"
   ]
  },
  {
   "cell_type": "markdown",
   "id": "bridal-april",
   "metadata": {},
   "source": [
    "# ファイルをひとつにする"
   ]
  },
  {
   "cell_type": "code",
   "execution_count": 41,
   "id": "deadly-qatar",
   "metadata": {},
   "outputs": [
    {
     "name": "stdout",
     "output_type": "stream",
     "text": [
      "['エアバッグ', 'シートベルト', 'タカタ', '特許', '筋トレ', '脱毛']\n"
     ]
    }
   ],
   "source": [
    "# ブラウザを自動操作するためseleniumをimport\n",
    "from selenium import webdriver\n",
    "\n",
    "# seleniumでEnterキーを送信する際に使用するのでimport\n",
    "from selenium.webdriver.common.keys import Keys\n",
    "\n",
    "# seleniumでヘッドレスモードを指定するためにimport\n",
    "from selenium.webdriver.chrome.options import Options\n",
    "# 待ち時間を指定するためにtimeをimport\n",
    "import time\n",
    "import os\n",
    "import json\n",
    "from requests_oauthlib import OAuth1Session\n",
    "from dotenv import find_dotenv, load_dotenv\n",
    "# グーグルスプレッドシートを操作する為にimport\n",
    "import gspread\n",
    "\n",
    "# グーグルスプレッドシートの認証情報設定の為にimport\n",
    "from google.oauth2.service_account import Credentials\n",
    "\n",
    "# 現在のパスを指定\n",
    "PWD = os.getcwd()\n",
    "\n",
    "env_file = find_dotenv()\n",
    "load_dotenv(env_file)  # .envファイルを探して読み込む\n",
    "\n",
    "# スプレッドシートキーを取得\n",
    "SPREADSHEET_KEY = os.environ.get('SPREADSHEET_KEY')\n",
    "\n",
    "# 認証情報設定\n",
    "\n",
    "# 2つのAPIを記述しないとリフレッシュトークンを3600秒毎に発行し続けなければならない\n",
    "scopes = [\n",
    "    'https://www.googleapis.com/auth/spreadsheets',\n",
    "    'https://www.googleapis.com/auth/drive'\n",
    "]\n",
    "\n",
    "# ダウンロードしたjsonファイル名をクレデンシャル変数に設定（秘密鍵、Pythonファイルから読み込みしやすい位置に置く）\n",
    "#※Pythonファイルと同じ位置にjsonファイルを置く\n",
    "credentials = Credentials.from_service_account_file(\n",
    "    'organic-duality-295411-65ee7e371b14.json',\n",
    "    scopes=scopes\n",
    ")\n",
    "# OAuth2の資格情報を使用してGoogleAPIにログイン\n",
    "gc = gspread.authorize(credentials)\n",
    "\n",
    "#共有設定したスプレッドシートのワークブックを開く\n",
    "workbook = gc.open_by_key(SPREADSHEET_KEY)\n",
    "\n",
    "# ワークシートを開く\n",
    "worksheet = workbook.worksheet('キーワードリスト')\n",
    "\n",
    "#セルの値を行で取得\n",
    "keyword_list = worksheet.col_values(2)[1:]\n",
    "print(keyword_list)\n",
    "\n",
    "# クロームオプションの設定\n",
    "options = webdriver.ChromeOptions()\n",
    "\n",
    "# seleniumで自動操作するブラウザはGoogleChrome\n",
    "# Optionsオブジェクトを作成\n",
    "options = Options()\n",
    "# ヘッドレスモードを有効にする\n",
    "# options.add_argument('--headless')\n",
    "\n",
    "for i in range(len(keyword_list)):\n",
    "    # keyword\n",
    "    keyword = keyword_list[i]\n",
    "    file_make = f'{PWD}\\{keyword}' #ファイルを作成\n",
    "    if not os.path.exists(file_make):\n",
    "        os.mkdir(file_make)\n",
    "        \n",
    "    # Seleniumでダウンロードするデフォルトディレクトリ\n",
    "    download_directory = file_make\n",
    "    # デフォルトのダウンロードディレクトリの指定\n",
    "    prefs = {\"download.default_directory\" : download_directory}  \n",
    "\n",
    "    # オプションを指定してクロームドライバーの起動\n",
    "    options.add_experimental_option(\"prefs\", prefs)\n",
    "\n",
    "    \n",
    "    # ChromeのWebDriverオブジェクトを作成\n",
    "    # driver = webdriver.Chrome(options=Options)\n",
    "    driver = webdriver.Chrome(options=options, executable_path=\"chromedriver.exe\")\n",
    "\n",
    "\n",
    "    # 関連キーワード（ラックキーワード）\n",
    "    URL_related = f'https://related-keywords.com/result/suggest?q={keyword_list[i]}'\n",
    "    URL_news = f'https://related-keywords.com/result/news?q={keyword_list[i]}'\n",
    "    URL_googletrend = f'https://related-keywords.com/result/trend?q={keyword_list[i]}'\n",
    "    URL_cooccurrence = f'https://related-keywords.com/result/cooccurrence?q={keyword_list[i]}'\n",
    "    URL_similarity = f'https://related-keywords.com/result/similarityAndAssociation?q={keyword_list[0]}'\n",
    "    URL_synonym = f'https://related-keywords.com/result/synonym?q={keyword_list[i]}'\n",
    "\n",
    "    # URLの辞書を作成\n",
    "    URL_dct = {\n",
    "        'URL_related' : URL_related,\n",
    "        'URL_news' : URL_news,\n",
    "        'URL_cooccurrence' : URL_cooccurrence,\n",
    "        'URL_similarity' :URL_similarity,\n",
    "        'URL_synonym' : URL_synonym,\n",
    "    }\n",
    "\n",
    "# url1 = URL_list['URL_news']\n",
    "\n",
    "    for url in URL_dct.items():\n",
    "        # 関連キーワード（ラックキーワード）\n",
    "        # 2秒待機（読み込みのため）\n",
    "        driver.get(url[1])\n",
    "        time.sleep(10)\n",
    "\n",
    "        # csvファイルの出力\n",
    "        if url[0] == 'URL_cooccurrence':\n",
    "            driver.find_elements_by_class_name('sc-1kt4t6s-8')[1].click()\n",
    "            driver.find_elements_by_class_name('sc-1rktuvo-0')[0].find_elements_by_tag_name('button')[0].click()\n",
    "        else:\n",
    "            driver.find_elements_by_class_name('sc-1kt4t6s-8')[1].click()\n",
    "\n",
    "        time.sleep(3)\n",
    "    # ブラウザを閉じて終了する\n",
    "    driver.quit()"
   ]
  },
  {
   "cell_type": "code",
   "execution_count": 30,
   "id": "stable-peter",
   "metadata": {},
   "outputs": [],
   "source": [
    "for i in range(len(keyword_list)):\n",
    "    # keyword\n",
    "    keyword = keyword_list[i]\n",
    "    file_make = f'{PWD}\\{keyword}' #ファイルを作成\n",
    "    if not os.path.exists(file_make):\n",
    "        os.mkdir(file_make)"
   ]
  },
  {
   "cell_type": "code",
   "execution_count": 25,
   "id": "still-mediterranean",
   "metadata": {},
   "outputs": [
    {
     "data": {
      "text/plain": [
       "5"
      ]
     },
     "execution_count": 25,
     "metadata": {},
     "output_type": "execute_result"
    }
   ],
   "source": [
    "len(keyword_list)"
   ]
  },
  {
   "cell_type": "code",
   "execution_count": 38,
   "id": "limited-version",
   "metadata": {},
   "outputs": [
    {
     "name": "stdout",
     "output_type": "stream",
     "text": [
      "https://related-keywords.com/result/suggest?q=脱毛\n",
      "https://related-keywords.com/result/news?q=脱毛\n",
      "https://related-keywords.com/result/cooccurrence?q=脱毛\n",
      "https://related-keywords.com/result/similarityAndAssociation?q=エアバッグ\n",
      "https://related-keywords.com/result/synonym?q=脱毛\n"
     ]
    }
   ],
   "source": [
    "# 関連キーワード（ラックキーワード）\n",
    "URL_related = f'https://related-keywords.com/result/suggest?q={keyword_list[i]}'\n",
    "URL_news = f'https://related-keywords.com/result/news?q={keyword_list[i]}'\n",
    "URL_googletrend = f'https://related-keywords.com/result/trend?q={keyword_list[i]}'\n",
    "URL_cooccurrence = f'https://related-keywords.com/result/cooccurrence?q={keyword_list[i]}'\n",
    "URL_similarity = f'https://related-keywords.com/result/similarityAndAssociation?q={keyword_list[0]}'\n",
    "URL_synonym = f'https://related-keywords.com/result/synonym?q={keyword_list[i]}'\n",
    "\n",
    "# URLの辞書を作成\n",
    "URL_dct = {\n",
    "    'URL_related' : URL_related,\n",
    "    'URL_news' : URL_news,\n",
    "    'URL_cooccurrence' : URL_cooccurrence,\n",
    "    'URL_similarity' :URL_similarity,\n",
    "    'URL_synonym' : URL_synonym,\n",
    "}\n",
    "\n",
    "for test in URL_dct.items(): \n",
    "    print(test[1])"
   ]
  },
  {
   "cell_type": "markdown",
   "id": "indoor-longer",
   "metadata": {},
   "source": [
    "# csvファイルをまとめる"
   ]
  },
  {
   "cell_type": "code",
   "execution_count": 8,
   "id": "waiting-argentina",
   "metadata": {},
   "outputs": [
    {
     "data": {
      "text/plain": [
       "['エアバッグ', 'シートベルト', 'タカタ', '特許', '筋トレ', '脱毛']"
      ]
     },
     "execution_count": 8,
     "metadata": {},
     "output_type": "execute_result"
    }
   ],
   "source": [
    "keyword_list"
   ]
  },
  {
   "cell_type": "code",
   "execution_count": 9,
   "id": "noble-partition",
   "metadata": {},
   "outputs": [
    {
     "data": {
      "text/plain": [
       "'エアバッグ\\\\*.csv'"
      ]
     },
     "execution_count": 9,
     "metadata": {},
     "output_type": "execute_result"
    }
   ],
   "source": [
    "csv_file_path = f'{keyword_list[0]}\\*.csv'\n",
    "csv_file_path"
   ]
  },
  {
   "cell_type": "code",
   "execution_count": 10,
   "id": "worst-parker",
   "metadata": {},
   "outputs": [
    {
     "data": {
      "text/plain": [
       "['エアバッグ\\\\co-occurrence_エアバッグ_simple_20210301154458.csv',\n",
       " 'エアバッグ\\\\rakkokeyword_202131154341.csv',\n",
       " 'エアバッグ\\\\rakkokeyword_202131154428.csv',\n",
       " 'エアバッグ\\\\rakkokeyword_202131154444.csv',\n",
       " 'エアバッグ\\\\rakkokeyword_202131154512.csv',\n",
       " 'エアバッグ\\\\rakkokeyword_202131154527.csv']"
      ]
     },
     "execution_count": 10,
     "metadata": {},
     "output_type": "execute_result"
    }
   ],
   "source": [
    "import pandas as pd\n",
    "import glob\n",
    "\n",
    "# パスで指定したファイルの一覧をリスト形式で取得. （ここでは一階層下のtestファイル以下）\n",
    "csv_files = glob.glob(csv_file_path)\n",
    "csv_files"
   ]
  },
  {
   "cell_type": "code",
   "execution_count": 11,
   "id": "stopped-employer",
   "metadata": {},
   "outputs": [
    {
     "name": "stdout",
     "output_type": "stream",
     "text": [
      "エアバッグ\\co-occurrence_エアバッグ_simple_20210301154458.csv\n",
      "エアバッグ\\rakkokeyword_202131154341.csv\n",
      "エアバッグ\\rakkokeyword_202131154428.csv\n",
      "エアバッグ\\rakkokeyword_202131154444.csv\n",
      "エアバッグ\\rakkokeyword_202131154512.csv\n",
      "エアバッグ\\rakkokeyword_202131154527.csv\n"
     ]
    }
   ],
   "source": [
    "#読み込むファイルのリストを表示\n",
    "for a in csv_files:\n",
    "    print(a)"
   ]
  },
  {
   "cell_type": "code",
   "execution_count": 47,
   "id": "prescription-entertainment",
   "metadata": {},
   "outputs": [
    {
     "data": {
      "text/plain": [
       "['.\\\\エアバッグ\\\\co-occurrence_エアバッグ_simple_20210301154458.csv',\n",
       " '.\\\\エアバッグ\\\\rakkokeyword_202131154341.csv',\n",
       " '.\\\\エアバッグ\\\\rakkokeyword_202131154428.csv',\n",
       " '.\\\\エアバッグ\\\\rakkokeyword_202131154444.csv',\n",
       " '.\\\\エアバッグ\\\\rakkokeyword_202131154512.csv',\n",
       " '.\\\\エアバッグ\\\\rakkokeyword_202131154527.csv']"
      ]
     },
     "execution_count": 47,
     "metadata": {},
     "output_type": "execute_result"
    }
   ],
   "source": [
    "import pandas as pd\n",
    "import glob\n",
    "\n",
    "csvfiles = glob.glob(rf\".\\{keyword_list[0]}/*.csv\", recursive=False)\n",
    "csvfiles"
   ]
  },
  {
   "cell_type": "code",
   "execution_count": 48,
   "id": "criminal-federal",
   "metadata": {},
   "outputs": [
    {
     "data": {
      "text/plain": [
       "'.\\\\エアバッグ\\\\co-occurrence_エアバッグ_simple_20210301154458.csv'"
      ]
     },
     "execution_count": 48,
     "metadata": {},
     "output_type": "execute_result"
    }
   ],
   "source": [
    "csvfiles[0]"
   ]
  },
  {
   "cell_type": "code",
   "execution_count": 89,
   "id": "detailed-nursery",
   "metadata": {},
   "outputs": [
    {
     "data": {
      "text/html": [
       "<div>\n",
       "<style scoped>\n",
       "    .dataframe tbody tr th:only-of-type {\n",
       "        vertical-align: middle;\n",
       "    }\n",
       "\n",
       "    .dataframe tbody tr th {\n",
       "        vertical-align: top;\n",
       "    }\n",
       "\n",
       "    .dataframe thead th {\n",
       "        text-align: right;\n",
       "    }\n",
       "</style>\n",
       "<table border=\"1\" class=\"dataframe\">\n",
       "  <thead>\n",
       "    <tr style=\"text-align: right;\">\n",
       "      <th></th>\n",
       "      <th>No</th>\n",
       "      <th>共起語</th>\n",
       "      <th>共起回数（ページ全体）</th>\n",
       "      <th>共起回数（タイトル）</th>\n",
       "      <th>共起回数（見出し）</th>\n",
       "      <th>出現サイト数（ページ全体）</th>\n",
       "      <th>出現サイト数（見出し）</th>\n",
       "    </tr>\n",
       "  </thead>\n",
       "  <tbody>\n",
       "    <tr>\n",
       "      <th>0</th>\n",
       "      <td>1</td>\n",
       "      <td>衝撃</td>\n",
       "      <td>160</td>\n",
       "      <td>1</td>\n",
       "      <td>3</td>\n",
       "      <td>19</td>\n",
       "      <td>3</td>\n",
       "    </tr>\n",
       "    <tr>\n",
       "      <th>1</th>\n",
       "      <td>2</td>\n",
       "      <td>助手席</td>\n",
       "      <td>94</td>\n",
       "      <td>1</td>\n",
       "      <td>4</td>\n",
       "      <td>18</td>\n",
       "      <td>2</td>\n",
       "    </tr>\n",
       "    <tr>\n",
       "      <th>2</th>\n",
       "      <td>3</td>\n",
       "      <td>衝突</td>\n",
       "      <td>211</td>\n",
       "      <td>0</td>\n",
       "      <td>1</td>\n",
       "      <td>18</td>\n",
       "      <td>1</td>\n",
       "    </tr>\n",
       "    <tr>\n",
       "      <th>3</th>\n",
       "      <td>4</td>\n",
       "      <td>運転</td>\n",
       "      <td>91</td>\n",
       "      <td>1</td>\n",
       "      <td>6</td>\n",
       "      <td>17</td>\n",
       "      <td>3</td>\n",
       "    </tr>\n",
       "    <tr>\n",
       "      <th>4</th>\n",
       "      <td>5</td>\n",
       "      <td>シートベルト</td>\n",
       "      <td>137</td>\n",
       "      <td>2</td>\n",
       "      <td>4</td>\n",
       "      <td>17</td>\n",
       "      <td>4</td>\n",
       "    </tr>\n",
       "    <tr>\n",
       "      <th>...</th>\n",
       "      <td>...</td>\n",
       "      <td>...</td>\n",
       "      <td>...</td>\n",
       "      <td>...</td>\n",
       "      <td>...</td>\n",
       "      <td>...</td>\n",
       "      <td>...</td>\n",
       "    </tr>\n",
       "    <tr>\n",
       "      <th>79</th>\n",
       "      <td>80</td>\n",
       "      <td>仕組み</td>\n",
       "      <td>18</td>\n",
       "      <td>1</td>\n",
       "      <td>4</td>\n",
       "      <td>6</td>\n",
       "      <td>3</td>\n",
       "    </tr>\n",
       "    <tr>\n",
       "      <th>80</th>\n",
       "      <td>81</td>\n",
       "      <td>故障</td>\n",
       "      <td>15</td>\n",
       "      <td>0</td>\n",
       "      <td>0</td>\n",
       "      <td>6</td>\n",
       "      <td>0</td>\n",
       "    </tr>\n",
       "    <tr>\n",
       "      <th>81</th>\n",
       "      <td>82</td>\n",
       "      <td>販売</td>\n",
       "      <td>15</td>\n",
       "      <td>0</td>\n",
       "      <td>0</td>\n",
       "      <td>6</td>\n",
       "      <td>0</td>\n",
       "    </tr>\n",
       "    <tr>\n",
       "      <th>82</th>\n",
       "      <td>83</td>\n",
       "      <td>併用</td>\n",
       "      <td>12</td>\n",
       "      <td>0</td>\n",
       "      <td>0</td>\n",
       "      <td>6</td>\n",
       "      <td>0</td>\n",
       "    </tr>\n",
       "    <tr>\n",
       "      <th>83</th>\n",
       "      <td>84</td>\n",
       "      <td>システム</td>\n",
       "      <td>48</td>\n",
       "      <td>0</td>\n",
       "      <td>2</td>\n",
       "      <td>6</td>\n",
       "      <td>1</td>\n",
       "    </tr>\n",
       "  </tbody>\n",
       "</table>\n",
       "<p>84 rows × 7 columns</p>\n",
       "</div>"
      ],
      "text/plain": [
       "    No     共起語  共起回数（ページ全体）  共起回数（タイトル）  共起回数（見出し）  出現サイト数（ページ全体）  出現サイト数（見出し）\n",
       "0    1      衝撃          160           1          3             19            3\n",
       "1    2     助手席           94           1          4             18            2\n",
       "2    3      衝突          211           0          1             18            1\n",
       "3    4      運転           91           1          6             17            3\n",
       "4    5  シートベルト          137           2          4             17            4\n",
       "..  ..     ...          ...         ...        ...            ...          ...\n",
       "79  80     仕組み           18           1          4              6            3\n",
       "80  81      故障           15           0          0              6            0\n",
       "81  82      販売           15           0          0              6            0\n",
       "82  83      併用           12           0          0              6            0\n",
       "83  84    システム           48           0          2              6            1\n",
       "\n",
       "[84 rows x 7 columns]"
      ]
     },
     "execution_count": 89,
     "metadata": {},
     "output_type": "execute_result"
    }
   ],
   "source": [
    "import pandas as pd\n",
    "df = pd.read_csv(fr'./{keyword_list[0]}/{csvfiles[0]}', encoding='UTF16', sep='\\t')\n",
    "df.to_excel(fr'./{keyword_list[0]}/matome.xlsx',sheet_name='new_sheet_name')\n",
    "df"
   ]
  },
  {
   "cell_type": "code",
   "execution_count": 107,
   "id": "diagnostic-knight",
   "metadata": {},
   "outputs": [],
   "source": [
    "import pandas as pd\n",
    "import glob\n",
    "\n",
    "for keyword in keyword_list:\n",
    "    # csvファイルのリスト\n",
    "    csvfules_list = glob.glob(rf\".\\{keyword}/*.csv\", recursive=False)\n",
    "    with pd.ExcelWriter(fr'./{keyword}/matome.xlsx') as writer:\n",
    "        for i, csv_file in enumerate(csvfules_list):\n",
    "            df = pd.read_csv(fr'./{csv_file}', encoding='UTF16', sep='\\t')\n",
    "            df.to_excel(writer, sheet_name=f'{keyword}{i}')"
   ]
  },
  {
   "cell_type": "code",
   "execution_count": 105,
   "id": "forced-disclaimer",
   "metadata": {},
   "outputs": [
    {
     "data": {
      "text/plain": [
       "['.\\\\エアバッグ\\\\co-occurrence_エアバッグ_simple_20210301154458.csv',\n",
       " '.\\\\エアバッグ\\\\rakkokeyword_202131154428.csv',\n",
       " '.\\\\エアバッグ\\\\rakkokeyword_202131154444.csv',\n",
       " '.\\\\エアバッグ\\\\rakkokeyword_202131154512.csv',\n",
       " '.\\\\エアバッグ\\\\rakkokeyword_202131154527.csv']"
      ]
     },
     "execution_count": 105,
     "metadata": {},
     "output_type": "execute_result"
    }
   ],
   "source": [
    "csvfules_list"
   ]
  },
  {
   "cell_type": "markdown",
   "id": "south-logistics",
   "metadata": {},
   "source": [
    "# ファイルをまとめる "
   ]
  },
  {
   "cell_type": "code",
   "execution_count": null,
   "id": "static-palestine",
   "metadata": {},
   "outputs": [
    {
     "name": "stdout",
     "output_type": "stream",
     "text": [
      "['力学', '線形代数', '統計学', '熱流体', '製造業', '副業', 'pandas']\n"
     ]
    }
   ],
   "source": [
    "# ブラウザを自動操作するためseleniumをimport\n",
    "from selenium import webdriver\n",
    "\n",
    "# seleniumでEnterキーを送信する際に使用するのでimport\n",
    "from selenium.webdriver.common.keys import Keys\n",
    "\n",
    "# seleniumでヘッドレスモードを指定するためにimport\n",
    "from selenium.webdriver.chrome.options import Options\n",
    "# 待ち時間を指定するためにtimeをimport\n",
    "import time\n",
    "import os\n",
    "import json\n",
    "from requests_oauthlib import OAuth1Session\n",
    "from dotenv import find_dotenv, load_dotenv\n",
    "# グーグルスプレッドシートを操作する為にimport\n",
    "import gspread\n",
    "\n",
    "# グーグルスプレッドシートの認証情報設定の為にimport\n",
    "from google.oauth2.service_account import Credentials\n",
    "\n",
    "# 現在のパスを指定\n",
    "PWD = os.getcwd()\n",
    "\n",
    "env_file = find_dotenv()\n",
    "load_dotenv(env_file)  # .envファイルを探して読み込む\n",
    "\n",
    "# スプレッドシートキーを取得\n",
    "SPREADSHEET_KEY = os.environ.get('SPREADSHEET_KEY')\n",
    "\n",
    "# 認証情報設定\n",
    "\n",
    "# 2つのAPIを記述しないとリフレッシュトークンを3600秒毎に発行し続けなければならない\n",
    "scopes = [\n",
    "    'https://www.googleapis.com/auth/spreadsheets',\n",
    "    'https://www.googleapis.com/auth/drive'\n",
    "]\n",
    "\n",
    "# ダウンロードしたjsonファイル名をクレデンシャル変数に設定（秘密鍵、Pythonファイルから読み込みしやすい位置に置く）\n",
    "#※Pythonファイルと同じ位置にjsonファイルを置く\n",
    "credentials = Credentials.from_service_account_file(\n",
    "    'spreadsheet-test.json',\n",
    "    scopes=scopes\n",
    ")\n",
    "# OAuth2の資格情報を使用してGoogleAPIにログイン\n",
    "gc = gspread.authorize(credentials)\n",
    "\n",
    "#共有設定したスプレッドシートのワークブックを開く\n",
    "workbook = gc.open_by_key(SPREADSHEET_KEY)\n",
    "\n",
    "# ワークシートを開く\n",
    "worksheet = workbook.worksheet('キーワードリスト')\n",
    "\n",
    "#セルの値を行で取得\n",
    "keyword_list = worksheet.col_values(2)[1:]\n",
    "print(keyword_list)\n",
    "\n",
    "# クロームオプションの設定\n",
    "options = webdriver.ChromeOptions()\n",
    "\n",
    "# seleniumで自動操作するブラウザはGoogleChrome\n",
    "# Optionsオブジェクトを作成\n",
    "options = Options()\n",
    "# ヘッドレスモードを有効にする\n",
    "options.add_argument('--headless')\n",
    "\n",
    "for i in range(len(keyword_list)):\n",
    "    # keyword\n",
    "    keyword = keyword_list[i]\n",
    "    file_make = f'{PWD}\\{keyword}' #ファイルを作成\n",
    "    if not os.path.exists(file_make):\n",
    "        os.mkdir(file_make)\n",
    "        \n",
    "    # Seleniumでダウンロードするデフォルトディレクトリ\n",
    "    download_directory = file_make\n",
    "    # デフォルトのダウンロードディレクトリの指定\n",
    "    prefs = {\"download.default_directory\" : download_directory}  \n",
    "\n",
    "    # オプションを指定してクロームドライバーの起動\n",
    "    options.add_experimental_option(\"prefs\", prefs)\n",
    "\n",
    "    \n",
    "    # ChromeのWebDriverオブジェクトを作成\n",
    "    # driver = webdriver.Chrome(options=Options)\n",
    "    driver = webdriver.Chrome(options=options, executable_path=\"chromedriver.exe\")\n",
    "\n",
    "\n",
    "    # 関連キーワード（ラックキーワード）\n",
    "    URL_related = f'https://related-keywords.com/result/suggest?q={keyword_list[i]}'\n",
    "    URL_news = f'https://related-keywords.com/result/news?q={keyword_list[i]}'\n",
    "    URL_googletrend = f'https://related-keywords.com/result/trend?q={keyword_list[i]}'\n",
    "    URL_cooccurrence = f'https://related-keywords.com/result/cooccurrence?q={keyword_list[i]}'\n",
    "    URL_similarity = f'https://related-keywords.com/result/similarityAndAssociation?q={keyword_list[i]}'\n",
    "    URL_synonym = f'https://related-keywords.com/result/synonym?q={keyword_list[i]}'\n",
    "\n",
    "    # URLの辞書を作成\n",
    "    URL_dct = {\n",
    "        'URL_related' : URL_related,\n",
    "        'URL_news' : URL_news,\n",
    "        'URL_cooccurrence' : URL_cooccurrence,\n",
    "        'URL_similarity' :URL_similarity,\n",
    "        'URL_synonym' : URL_synonym,\n",
    "    }\n",
    "\n",
    "# url1 = URL_list['URL_news']\n",
    "\n",
    "    for url in URL_dct.items():\n",
    "        # 関連キーワード（ラックキーワード）\n",
    "        # 2秒待機（読み込みのため）\n",
    "        driver.get(url[1])\n",
    "        time.sleep(10)\n",
    "        \n",
    "        try:\n",
    "            # csvファイルの出力\n",
    "            if url[0] == 'URL_cooccurrence':\n",
    "                driver.find_elements_by_class_name('sc-1kt4t6s-8')[1].click()\n",
    "                driver.find_elements_by_class_name('sc-1rktuvo-0')[0].find_elements_by_tag_name('button')[0].click()\n",
    "            else:\n",
    "                driver.find_elements_by_class_name('sc-1kt4t6s-8')[1].click()\n",
    "        except Exception as e:\n",
    "            print(e)\n",
    "\n",
    "        time.sleep(3)\n",
    "    # ブラウザを閉じて終了する\n",
    "    driver.quit()\n",
    "    print(f'{keyword_list[i]}は終了')\n",
    "    \n",
    "print('='*10, 'ファイルまとめ作成','='*10)\n",
    "# キーワードをまとめる\n",
    "import pandas as pd\n",
    "import glob\n",
    "\n",
    "for keyword in keyword_list:\n",
    "    # csvファイルのリスト\n",
    "    csvfules_list = glob.glob(rf\"./{keyword}/*.csv\", recursive=False)\n",
    "    with pd.ExcelWriter(fr'./{keyword}/000_{keyword}_matome.xlsx') as writer:\n",
    "        for i, csv_file in enumerate(csvfules_list):\n",
    "            df = pd.read_csv(fr'./{csv_file}', encoding='UTF16', sep='\\t')\n",
    "            df.to_excel(writer, sheet_name=f'{keyword}{i}')\n",
    "print('='*10, '終了','='*10)"
   ]
  },
  {
   "cell_type": "code",
   "execution_count": null,
   "id": "parliamentary-chemistry",
   "metadata": {},
   "outputs": [],
   "source": []
  }
 ],
 "metadata": {
  "kernelspec": {
   "display_name": "Python 3",
   "language": "python",
   "name": "python3"
  },
  "language_info": {
   "codemirror_mode": {
    "name": "ipython",
    "version": 3
   },
   "file_extension": ".py",
   "mimetype": "text/x-python",
   "name": "python",
   "nbconvert_exporter": "python",
   "pygments_lexer": "ipython3",
   "version": "3.8.4"
  }
 },
 "nbformat": 4,
 "nbformat_minor": 5
}
