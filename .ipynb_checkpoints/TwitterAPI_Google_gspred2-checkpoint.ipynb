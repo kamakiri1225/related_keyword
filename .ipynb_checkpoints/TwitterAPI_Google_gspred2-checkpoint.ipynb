{
 "cells": [
  {
   "cell_type": "markdown",
   "metadata": {},
   "source": [
    "# 準備"
   ]
  },
  {
   "cell_type": "markdown",
   "metadata": {},
   "source": [
    "まずは、\n",
    "\n",
    "- コンシューマーキー (API key)\n",
    "- コンシューマーシークレーット(API secret key)\n",
    "- アクセストークン(Access token)\n",
    "- アクセストークンシークレット(Access token secret)\n",
    "\n",
    "と、GoogleスプレッドシートをPythonで操作するにはGoogle Drive APIを取得する必要があります。\n",
    "\n",
    "<a href=\"https://tanuhack.com/operate-spreadsheet/\">こちらの記事</a>で事前にGoogleスプレッドシートAPIキーを取得しておきます。\n",
    "\n",
    "- SPREADSHEET_KEY\n",
    "\n",
    "Pythonのコード内に直接べた書きするとセキュリティ的に良くないので「.env」ファイルから読み込むようにします。\n",
    "\n",
    "![画像](https://drive.google.com/uc?id=1ZrIWfnEmFWtUtEfo2kqjy1sOSpQRa4M-)\n",
    "\n",
    "「.ipynb」と同じフォルダ内に「.env」ファイルを作成します。\n",
    "\n",
    "```.env\n",
    "CONSUMER_KEY=yfBtFeNv3ALcPQGKMahomDmnB\n",
    "CONSUMER_SECRET=gagaaga\n",
    "ACCESS_KEY=1552-gagaa\n",
    "ACCESS_KEY_SECRET=gaggaag\n",
    "SPREADSHEET_KEY=gagagag\n",
    "```\n",
    "\n",
    "※「=」の前後にスペース不要。\n",
    "\n",
    "※yfBtFeNv3ALcPQGKMahomDmnBなどは「''」や「\"\"」などで括る必要はない。"
   ]
  },
  {
   "cell_type": "markdown",
   "metadata": {},
   "source": [
    "## Pythonコード\n",
    "\n",
    "まずは必要なライブラリをインポートします。"
   ]
  },
  {
   "cell_type": "code",
   "execution_count": 1,
   "metadata": {},
   "outputs": [],
   "source": [
    "import os\n",
    "import json\n",
    "from requests_oauthlib import OAuth1Session\n",
    "from dotenv import find_dotenv, load_dotenv"
   ]
  },
  {
   "cell_type": "markdown",
   "metadata": {},
   "source": [
    "次に、「.env」ファイルを探して読み込みます。"
   ]
  },
  {
   "cell_type": "code",
   "execution_count": 2,
   "metadata": {},
   "outputs": [
    {
     "name": "stdout",
     "output_type": "stream",
     "text": [
      "C:\\Work\\Python\\20201109_Daytry_Python\\auto_twitter\\講義まとめ\\.env\n"
     ]
    }
   ],
   "source": [
    "env_file = find_dotenv()\n",
    "\n",
    "load_dotenv(env_file)  # .envファイルを探して読み込む\n",
    "\n",
    "print(env_file)"
   ]
  },
  {
   "cell_type": "markdown",
   "metadata": {},
   "source": [
    "env_fileが現在のフォルダ内の「.env」までになっているのが確認できます。\n",
    "\n",
    "「.env」ファイルの中身を読み込んでみましょう。"
   ]
  },
  {
   "cell_type": "code",
   "execution_count": 3,
   "metadata": {},
   "outputs": [
    {
     "name": "stdout",
     "output_type": "stream",
     "text": [
      "yfBtFeNv3ALcPQGKMahomDmnB <class 'str'>\n",
      "11E98R3SF26bMN9SFCasi8otQn_Xt7_LDTIHyOxTGKUs <class 'str'>\n"
     ]
    }
   ],
   "source": [
    "CONSUMER_KEY = os.environ.get('CONSUMER_KEY')\n",
    "CONSUMER_SECRET = os.environ.get('CONSUMER_SECRET')\n",
    "ACCESS_KEY = os.environ.get('ACCESS_KEY')\n",
    "ACCESS_KEY_SECRET = os.environ.get('ACCESS_KEY_SECRET')\n",
    "SPREADSHEET_KEY = os.environ.get('SPREADSHEET_KEY')\n",
    "\n",
    "print(CONSUMER_KEY,type(CONSUMER_KEY))\n",
    "print(SPREADSHEET_KEY,type(SPREADSHEET_KEY))"
   ]
  },
  {
   "cell_type": "markdown",
   "metadata": {},
   "source": [
    "値が文字列として変数に格納されているのが確認できます。"
   ]
  },
  {
   "cell_type": "markdown",
   "metadata": {},
   "source": [
    "<a href=\"https://gspread.readthedocs.io/en/latest/user-guide.html\">gspred</a>のドキュメントに従ってPtyhonを使ってGoogleスプレッドシートを操作してみましょう。\n",
    "\n",
    "必要なライブラリをインポートします。"
   ]
  },
  {
   "cell_type": "code",
   "execution_count": 5,
   "metadata": {},
   "outputs": [],
   "source": [
    "# グーグルスプレッドシートを操作する為にimport\n",
    "import gspread\n",
    "\n",
    "# グーグルスプレッドシートの認証情報設定の為にimport\n",
    "from google.oauth2.service_account import Credentials"
   ]
  },
  {
   "cell_type": "markdown",
   "metadata": {},
   "source": [
    "次に、Googleスプレッドシートを操作できるための認証処理を行います。"
   ]
  },
  {
   "cell_type": "code",
   "execution_count": 6,
   "metadata": {},
   "outputs": [],
   "source": [
    "# 認証情報設定\n",
    "\n",
    "# 2つのAPIを記述しないとリフレッシュトークンを3600秒毎に発行し続けなければならない\n",
    "scopes = [\n",
    "    'https://www.googleapis.com/auth/spreadsheets',\n",
    "    'https://www.googleapis.com/auth/drive'\n",
    "]\n",
    "\n",
    "\n",
    "\n",
    "# ダウンロードしたjsonファイル名をクレデンシャル変数に設定（秘密鍵、Pythonファイルから読み込みしやすい位置に置く）\n",
    "#※Pythonファイルと同じ位置にjsonファイルを置く\n",
    "credentials = Credentials.from_service_account_file(\n",
    "    'organic-duality-aaaaaa.json',\n",
    "    scopes=scopes\n",
    ")\n",
    "# OAuth2の資格情報を使用してGoogleAPIにログイン\n",
    "gc = gspread.authorize(credentials)"
   ]
  },
  {
   "cell_type": "markdown",
   "metadata": {},
   "source": [
    "これでGoogleスプレッドシートの操作の準備は終わりです。"
   ]
  },
  {
   "cell_type": "markdown",
   "metadata": {},
   "source": [
    "# Googleスプレッドシートに書いている投稿内容と画像idを習得\n",
    "\n",
    "では、以下のように\n",
    "\n",
    "- 1列目の投稿内容\n",
    "- 2列目の画像id1\n",
    "- 3列目の画像id2\n",
    "- 4列目の画像id3\n",
    "- 5列目の画像id4\n",
    "\n",
    "の文字列をPythonを使って取得します。\n",
    "\n",
    "\n",
    "![画像](https://drive.google.com/uc?id=14PmscorKWLQaaM7YrPVn42bBmdgMuVwP)"
   ]
  },
  {
   "cell_type": "markdown",
   "metadata": {},
   "source": [
    "まずは投稿内容から取得します。"
   ]
  },
  {
   "cell_type": "code",
   "execution_count": 16,
   "metadata": {},
   "outputs": [
    {
     "data": {
      "text/plain": [
       "['投稿内容', 'TwitterAPIを使ったテスト投稿です。', 'お元気ですか？', '今日はいい天気ですね。', '勉強はかどってます！！']"
      ]
     },
     "execution_count": 16,
     "metadata": {},
     "output_type": "execute_result"
    }
   ],
   "source": [
    "#共有設定したスプレッドシートのワークブックを開く\n",
    "workbook = gc.open_by_key(SPREADSHEET_KEY)\n",
    "\n",
    "# ワークシートを開く\n",
    "worksheet = workbook.worksheet('ツイート用シート')\n",
    "\n",
    "#セルの値を行で取得\n",
    "rowValues_list = worksheet.col_values(1)\n",
    "rowValues_list"
   ]
  },
  {
   "cell_type": "markdown",
   "metadata": {},
   "source": [
    "うまく投稿内容を取得できました。\n",
    "投稿内容は1列目なので「」\n",
    "\n",
    "```\n",
    "#セルの値を行で取得\n",
    "rowValues_list = worksheet.col_values(1)\n",
    "```\n",
    "でIndexを1にすればよいということですね。\n",
    "\n",
    "では、4枚の画像idも同様に取得します。"
   ]
  },
  {
   "cell_type": "code",
   "execution_count": 20,
   "metadata": {},
   "outputs": [
    {
     "name": "stdout",
     "output_type": "stream",
     "text": [
      "['投稿内容', 'TwitterAPIを使ったテスト投稿です。', 'お元気ですか？', '今日はいい天気ですね。', '勉強はかどってます！！']\n",
      "['画像1', '1S_tFzBhbAa7xgBINKm4K2RQoLdIfscmz', '1S_tFzBhbAa7xgBINKm4K2RQoLdIfscmz', '1S_tFzBhbAa7xgBINKm4K2RQoLdIfscmz', '1S_tFzBhbAa7xgBINKm4K2RQoLdIfscmz']\n",
      "['画像2', '1DqtFZDSvDoIKXbr4jgpUtT-j3g9Cu7PI', '1DqtFZDSvDoIKXbr4jgpUtT-j3g9Cu7PI', '1DqtFZDSvDoIKXbr4jgpUtT-j3g9Cu7PI', '1DqtFZDSvDoIKXbr4jgpUtT-j3g9Cu7PI']\n",
      "['画像3', '1M-JzIW6ceAXDm6zZsjUXHsldYFpLo9o_', '1M-JzIW6ceAXDm6zZsjUXHsldYFpLo9o_', '1M-JzIW6ceAXDm6zZsjUXHsldYFpLo9o_', '1M-JzIW6ceAXDm6zZsjUXHsldYFpLo9o_']\n",
      "['画像4', '102Fk77Xp__TiYNHVG9i433RF3WSZiAJq', '102Fk77Xp__TiYNHVG9i433RF3WSZiAJq', '102Fk77Xp__TiYNHVG9i433RF3WSZiAJq', '102Fk77Xp__TiYNHVG9i433RF3WSZiAJq']\n"
     ]
    }
   ],
   "source": [
    "# 投稿内容\n",
    "text_list = worksheet.col_values(1)\n",
    "\n",
    "# 画像のid\n",
    "image1_list = worksheet.col_values(2)\n",
    "image2_list = worksheet.col_values(3)\n",
    "image3_list = worksheet.col_values(4)\n",
    "image4_list = worksheet.col_values(5)\n",
    "\n",
    "print(text_list)\n",
    "print(image1_list)\n",
    "print(image2_list)\n",
    "print(image3_list)\n",
    "print(image4_list)"
   ]
  },
  {
   "cell_type": "markdown",
   "metadata": {},
   "source": [
    "よく見ると「投稿内容」や「画像1」「画像2」「画像3」「画像4」もリストの中に入ってきてしまっていますよね。\n",
    "\n",
    "これは1行目の内容も取得してしまっているからです。\n",
    "\n",
    "2行目から取得したいのでスライスを使って「indexが1から」取得という意味で[1:]を後ろに付けます。\n",
    "※indexは0からなので2行目を取得したい場合は「indexが1から」としないといけないです。"
   ]
  },
  {
   "cell_type": "code",
   "execution_count": 34,
   "metadata": {},
   "outputs": [
    {
     "name": "stdout",
     "output_type": "stream",
     "text": [
      "['TwitterAPIを使ったテスト投稿です。', 'お元気ですか？', '今日はいい天気ですね。', '勉強はかどってます！！']\n",
      "['1S_tFzBhbAa7xgBINKm4K2RQoLdIfscmz', '1S_tFzBhbAa7xgBINKm4K2RQoLdIfscmz', '1S_tFzBhbAa7xgBINKm4K2RQoLdIfscmz', '1S_tFzBhbAa7xgBINKm4K2RQoLdIfscmz']\n",
      "['1DqtFZDSvDoIKXbr4jgpUtT-j3g9Cu7PI', '1DqtFZDSvDoIKXbr4jgpUtT-j3g9Cu7PI', '1DqtFZDSvDoIKXbr4jgpUtT-j3g9Cu7PI', '1DqtFZDSvDoIKXbr4jgpUtT-j3g9Cu7PI']\n",
      "['1M-JzIW6ceAXDm6zZsjUXHsldYFpLo9o_', '1M-JzIW6ceAXDm6zZsjUXHsldYFpLo9o_', '1M-JzIW6ceAXDm6zZsjUXHsldYFpLo9o_', '1M-JzIW6ceAXDm6zZsjUXHsldYFpLo9o_']\n",
      "['102Fk77Xp__TiYNHVG9i433RF3WSZiAJq', '102Fk77Xp__TiYNHVG9i433RF3WSZiAJq', '102Fk77Xp__TiYNHVG9i433RF3WSZiAJq', '102Fk77Xp__TiYNHVG9i433RF3WSZiAJq']\n"
     ]
    }
   ],
   "source": [
    "# 投稿内容\n",
    "text_list = worksheet.col_values(1)[1:]\n",
    "\n",
    "# 画像のid\n",
    "image1_list = worksheet.col_values(2)[1:]\n",
    "image2_list = worksheet.col_values(3)[1:]\n",
    "image3_list = worksheet.col_values(4)[1:]\n",
    "image4_list = worksheet.col_values(5)[1:]\n",
    "\n",
    "print(text_list)\n",
    "print(image1_list)\n",
    "print(image2_list)\n",
    "print(image3_list)\n",
    "print(image4_list)"
   ]
  },
  {
   "cell_type": "markdown",
   "metadata": {},
   "source": [
    "これで必要な情報は取得できましたが、ちょっとコードがくどい気がしますのfor文と辞書型を使って整理します。"
   ]
  },
  {
   "cell_type": "code",
   "execution_count": 32,
   "metadata": {},
   "outputs": [
    {
     "data": {
      "text/plain": [
       "{'text': ['TwitterAPIを使ったテスト投稿です。', 'お元気ですか？', '今日はいい天気ですね。', '勉強はかどってます！！'],\n",
       " 'img1': ['1S_tFzBhbAa7xgBINKm4K2RQoLdIfscmz',\n",
       "  '1S_tFzBhbAa7xgBINKm4K2RQoLdIfscmz',\n",
       "  '1S_tFzBhbAa7xgBINKm4K2RQoLdIfscmz',\n",
       "  '1S_tFzBhbAa7xgBINKm4K2RQoLdIfscmz'],\n",
       " 'img2': ['1DqtFZDSvDoIKXbr4jgpUtT-j3g9Cu7PI',\n",
       "  '1DqtFZDSvDoIKXbr4jgpUtT-j3g9Cu7PI',\n",
       "  '1DqtFZDSvDoIKXbr4jgpUtT-j3g9Cu7PI',\n",
       "  '1DqtFZDSvDoIKXbr4jgpUtT-j3g9Cu7PI'],\n",
       " 'img3': ['1M-JzIW6ceAXDm6zZsjUXHsldYFpLo9o_',\n",
       "  '1M-JzIW6ceAXDm6zZsjUXHsldYFpLo9o_',\n",
       "  '1M-JzIW6ceAXDm6zZsjUXHsldYFpLo9o_',\n",
       "  '1M-JzIW6ceAXDm6zZsjUXHsldYFpLo9o_'],\n",
       " 'img4': ['102Fk77Xp__TiYNHVG9i433RF3WSZiAJq',\n",
       "  '102Fk77Xp__TiYNHVG9i433RF3WSZiAJq',\n",
       "  '102Fk77Xp__TiYNHVG9i433RF3WSZiAJq',\n",
       "  '102Fk77Xp__TiYNHVG9i433RF3WSZiAJq']}"
      ]
     },
     "execution_count": 32,
     "metadata": {},
     "output_type": "execute_result"
    }
   ],
   "source": [
    "# 辞書型のキーになる情報を用意\n",
    "info_list = [\n",
    "        'text',\n",
    "        'img1',\n",
    "        'img2',\n",
    "        'img3',\n",
    "        'img4',\n",
    "]\n",
    "\n",
    "# 空の辞書型を用意\n",
    "data = {}\n",
    "\n",
    "# for 1~5列をfor文で回す\n",
    "for i in range(0,5):\n",
    "    data[info_list[i]] = worksheet.col_values(i+1)[1:] # 辞書型で投稿内容と画像idを格納\n",
    "\n",
    "data"
   ]
  },
  {
   "cell_type": "markdown",
   "metadata": {},
   "source": [
    "辞書型として全てデータが格納されました。\n",
    "\n",
    "ここから例えば1つ目の投稿内容と4枚の画像idを取得したい場合は以下のようにします。"
   ]
  },
  {
   "cell_type": "code",
   "execution_count": 33,
   "metadata": {},
   "outputs": [
    {
     "name": "stdout",
     "output_type": "stream",
     "text": [
      "TwitterAPIを使ったテスト投稿です。\n",
      "1S_tFzBhbAa7xgBINKm4K2RQoLdIfscmz\n",
      "1DqtFZDSvDoIKXbr4jgpUtT-j3g9Cu7PI\n",
      "1M-JzIW6ceAXDm6zZsjUXHsldYFpLo9o_\n",
      "102Fk77Xp__TiYNHVG9i433RF3WSZiAJq\n"
     ]
    }
   ],
   "source": [
    "print(data['text'][0])\n",
    "print(data['img1'][0])\n",
    "print(data['img2'][0])\n",
    "print(data['img3'][0])\n",
    "print(data['img4'][0])"
   ]
  },
  {
   "cell_type": "markdown",
   "metadata": {},
   "source": [
    "ずいぶんとコードがすっきりしました。\n",
    "\n",
    "\n",
    "これでGoogleスプレッドシートを操作できるようになりましたので、次はTwitterAPIを行います。\n",
    "\n",
    "# TwitteAPIで画像付きで投稿する\n",
    "\n",
    "OAuth1Sessionの認証処理部分まで書いておきます。\n"
   ]
  },
  {
   "cell_type": "code",
   "execution_count": 35,
   "metadata": {},
   "outputs": [
    {
     "data": {
      "text/plain": [
       "<requests_oauthlib.oauth1_session.OAuth1Session at 0x1ff61ab2748>"
      ]
     },
     "execution_count": 35,
     "metadata": {},
     "output_type": "execute_result"
    }
   ],
   "source": [
    "import os\n",
    "import json\n",
    "from requests_oauthlib import OAuth1Session\n",
    "from dotenv import find_dotenv, load_dotenv\n",
    "import requests\n",
    "\n",
    "env_file = find_dotenv()\n",
    "# .envファイルを探して読み込む\n",
    "load_dotenv(env_file)  \n",
    "\n",
    "# 各種ツイッターのキーをセット　CONSUMER_KEY, CONSUMER_SECRET, ACCESS_KEY, ACCESS_KEY_SECRET\n",
    "CONSUMER_KEY = os.environ.get('CONSUMER_KEY')\n",
    "CONSUMER_SECRET = os.environ.get('CONSUMER_SECRET')\n",
    "ACCESS_KEY = os.environ.get('ACCESS_KEY')\n",
    "ACCESS_KEY_SECRET = os.environ.get('ACCESS_KEY_SECRET')\n",
    "SPREADSHEET_KEY = os.environ.get('SPREADSHEET_KEY')\n",
    "\n",
    "# OAuth1Sessionの認証処理\n",
    "twitter = OAuth1Session(CONSUMER_KEY, CONSUMER_SECRET, ACCESS_KEY, ACCESS_KEY_SECRET)\n",
    "\n",
    "#エンドポイント\n",
    "url_text = 'https://api.twitter.com/1.1/statuses/update.json'\n",
    "url_media = \"https://upload.twitter.com/1.1/media/upload.json\"\n",
    "\n",
    "twitter"
   ]
  },
  {
   "cell_type": "markdown",
   "metadata": {},
   "source": [
    "オブジェクトが生成されているのが確認できますね。\n",
    "\n",
    "エンドポイントはTwitterで提供する情報の特定の種類に対応するアドレス（エンドポイントは一般に電話番号のように唯一無二です）のことです。"
   ]
  },
  {
   "cell_type": "markdown",
   "metadata": {},
   "source": [
    "1つ目の投稿内容の画像4枚をTwitterで投稿できるようにします。\n",
    "\n",
    "4枚の画像なのでちょっとくどいコードの書き方ですが以下のように書きます。"
   ]
  },
  {
   "cell_type": "code",
   "execution_count": 49,
   "metadata": {},
   "outputs": [
    {
     "name": "stdout",
     "output_type": "stream",
     "text": [
      "1352598622752305162\n",
      "1352598629794471940\n",
      "1352598637725896704\n",
      "1352598646601125891\n"
     ]
    }
   ],
   "source": [
    "#===================\n",
    "# 1枚目の画像\n",
    "\n",
    "# 画像 URL\n",
    "#GoogleDriveの画像をTwitterサーバーから取得\n",
    "#アップロードした画像のID取得\n",
    "#===================\n",
    "image_id_1 = data['img1'][0]\n",
    "image_url_1 = 'https://drive.google.com/uc?id=' + image_id_1\n",
    "response_1 = requests.get(image_url_1)\n",
    "image_1 = response_1.content\n",
    "files_1 = {\"media\" : image_1}\n",
    "req_media_1 = twitter.post(url_media, files = files_1)\n",
    "media_id_1 = json.loads(req_media_1.text)['media_id']\n",
    "\n",
    "\n",
    "#===================\n",
    "# 2枚目の画像\n",
    "\n",
    "# 画像 URL\n",
    "#GoogleDriveの画像をTwitterサーバーから取得\n",
    "#アップロードした画像のID取得\n",
    "#===================\n",
    "image_id_2 = data['img2'][0]\n",
    "image_url_2 = 'https://drive.google.com/uc?id=' + image_id_2\n",
    "response_2 = requests.get(image_url_2)\n",
    "image_2 = response_2.content\n",
    "files_2 = {\"media\" : image_2}\n",
    "req_media_2 = twitter.post(url_media, files = files_2)\n",
    "media_id_2 = json.loads(req_media_2.text)['media_id']\n",
    "\n",
    "\n",
    "#===================\n",
    "# 3枚目の画像\n",
    "\n",
    "# 画像 URL\n",
    "#GoogleDriveの画像をTwitterサーバーから取得\n",
    "#アップロードした画像のID取得\n",
    "#===================\n",
    "image_id_3 = data['img3'][0]\n",
    "image_url_3 = 'https://drive.google.com/uc?id=' + image_id_3\n",
    "response_3 = requests.get(image_url_3)\n",
    "image_3 = response_3.content\n",
    "files_3 = {\"media\" : image_3}\n",
    "req_media_3 = twitter.post(url_media, files = files_3)\n",
    "media_id_3 = json.loads(req_media_3.text)['media_id']\n",
    "\n",
    "#===================\n",
    "# 4枚目の画像\n",
    "\n",
    "# 画像 URL\n",
    "#GoogleDriveの画像をTwitterサーバーから取得\n",
    "#アップロードした画像のID取得\n",
    "#===================\n",
    "image_id_4 = data['img4'][0]\n",
    "image_url_4 = 'https://drive.google.com/uc?id=' + image_id_4\n",
    "response_4 = requests.get(image_url_4)\n",
    "image_4 = response_4.content\n",
    "files_4 = {\"media\" : image_4}\n",
    "req_media_4 = twitter.post(url_media, files = files_4)\n",
    "media_id_4 = json.loads(req_media_4.text)['media_id_string']\n",
    "\n",
    "\n",
    "print(media_id_1)\n",
    "print(media_id_2)\n",
    "print(media_id_3)\n",
    "print(media_id_4)"
   ]
  },
  {
   "cell_type": "markdown",
   "metadata": {},
   "source": [
    "さすがに何個同じコード書くんだってなりそうなので、for文ですっきり書いておきましょう。"
   ]
  },
  {
   "cell_type": "code",
   "execution_count": 50,
   "metadata": {},
   "outputs": [
    {
     "data": {
      "text/plain": [
       "['1352598665320304645',\n",
       " '1352598672773537793',\n",
       " '1352598681652850690',\n",
       " '1352598690548965378']"
      ]
     },
     "execution_count": 50,
     "metadata": {},
     "output_type": "execute_result"
    }
   ],
   "source": [
    "# 空ファイルを用意する\n",
    "image_id_list = []\n",
    "\n",
    "for i in range(1,5):\n",
    "    #===================\n",
    "    # 画像\n",
    "    # 画像 URL\n",
    "    #GoogleDriveの画像をTwitterサーバーから取得\n",
    "    #アップロードした画像のID取得\n",
    "    #===================\n",
    "    image_id = data[info_list[i]][0]\n",
    "    image_url = 'https://drive.google.com/uc?id=' + image_id\n",
    "    response = requests.get(image_url)\n",
    "    image = response.content\n",
    "    files = {\"media\" : image}\n",
    "    req_media = twitter.post(url_media, files = files)\n",
    "    media_id = json.loads(req_media.text)['media_id_string']\n",
    "    image_id_list.append(media_id)\n",
    "\n",
    "image_id_list"
   ]
  },
  {
   "cell_type": "markdown",
   "metadata": {},
   "source": [
    "idは毎回変わるので先ほどと違う値になっていますが気にしなくても大丈夫です。\n",
    "\n",
    "では、4枚の画像付き投稿をするのですが、paramsは以下のようにする必要があります。\n",
    "\n",
    "```\n",
    "params = {'status': '4枚の画像付きの投稿', 'media_ids': '1348990930917879809,1348990956142354433,1348990963411083265,1348990971556478978'}\n",
    "```\n",
    "\n",
    "画像のidは「,」で区切って全体を文字列にする必要があります。\n",
    "\n",
    "フォーマット文字列を使ってidを文字列の中に埋め込みます。"
   ]
  },
  {
   "cell_type": "code",
   "execution_count": 51,
   "metadata": {},
   "outputs": [
    {
     "data": {
      "text/plain": [
       "'1352598665320304645,1352598672773537793,1352598681652850690,1352598690548965378'"
      ]
     },
     "execution_count": 51,
     "metadata": {},
     "output_type": "execute_result"
    }
   ],
   "source": [
    "media_ids = ','.join(image_id_list)\n",
    "media_ids"
   ]
  },
  {
   "cell_type": "code",
   "execution_count": 52,
   "metadata": {},
   "outputs": [
    {
     "name": "stdout",
     "output_type": "stream",
     "text": [
      "{'status': '4枚の画像付きの投稿', 'media_ids': '1352598665320304645,1352598672773537793,1352598681652850690,1352598690548965378'}\n"
     ]
    }
   ],
   "source": [
    "# ツイート(複数画像をアップロードする場合は[\"test1.jpg,test2.jpg\"])みたいな感じ\n",
    "params = {'status': '4枚の画像付きの投稿','media_ids': media_ids}\n",
    "print(params)"
   ]
  },
  {
   "cell_type": "markdown",
   "metadata": {},
   "source": [
    "これで投稿の準備ができたので以下で画像付きツイートをします。"
   ]
  },
  {
   "cell_type": "code",
   "execution_count": 53,
   "metadata": {},
   "outputs": [
    {
     "data": {
      "text/plain": [
       "<Response [200]>"
      ]
     },
     "execution_count": 53,
     "metadata": {},
     "output_type": "execute_result"
    }
   ],
   "source": [
    "# 画像付きツイート投稿\n",
    "req=twitter.post(url_text, params = params)\n",
    "req"
   ]
  },
  {
   "cell_type": "markdown",
   "metadata": {},
   "source": [
    "エラーがなければResponse [200]と返ってきます。\n",
    "\n",
    "以下のように投稿できればうまくいっていますね。\n",
    "\n",
    "![画像](https://drive.google.com/uc?id=1mMPE9x18YyEpMbOwdwucigeOQHjQ3moU)"
   ]
  },
  {
   "cell_type": "markdown",
   "metadata": {},
   "source": [
    "# 全体のコード\n",
    "\n",
    "下記に全体のコードを載せておきます。\n",
    "\n",
    "下記のように投稿内容をランダムに投稿したい場合は、\n",
    "\n",
    "\n",
    "```\n",
    "data['text'][0]\n",
    "image_id = data[info_list[i]][0]\n",
    "```\n",
    "\n",
    "の[0]の部分をランダム関数でランダムにすれば良いです。\n",
    "\n",
    "![画像](https://drive.google.com/uc?id=14PmscorKWLQaaM7YrPVn42bBmdgMuVwP)\n",
    "\n",
    "例えば投稿数は以下のようにlen関数で出力が出きます。\n",
    "\n",
    "これは投稿数がいくつあってもlen関数は投稿数に応じて変わってくれるので便利です。\n"
   ]
  },
  {
   "cell_type": "code",
   "execution_count": 58,
   "metadata": {},
   "outputs": [
    {
     "data": {
      "text/plain": [
       "4"
      ]
     },
     "execution_count": 58,
     "metadata": {},
     "output_type": "execute_result"
    }
   ],
   "source": [
    "len(data['text'])"
   ]
  },
  {
   "cell_type": "markdown",
   "metadata": {},
   "source": [
    "現在は4個の投稿内容ですが、この4個の中からランダムに投稿内容を選ぶにはrandomを使えばよいです。\n",
    "\n",
    "```\n",
    "data[info_list[i]][0]\n",
    "```\n",
    "\n",
    "indexは0から始まるので\n",
    "- data[info_list[0]\n",
    "- data[info_list[1]\n",
    "- data[info_list[2]\n",
    "- data[info_list[3]\n",
    "\n",
    "と4つの投稿であってもindexは3までしかないことに注意する必要があります。\n",
    "\n",
    "なのでrandom.randint(0,len(data['text']))とすると「0,1,2,3,4」の値が出てしまうのでindexエラーが出てしまいます。\n",
    "\n",
    "よって、引数は1だけマイナスしておきます。"
   ]
  },
  {
   "cell_type": "code",
   "execution_count": 69,
   "metadata": {},
   "outputs": [
    {
     "data": {
      "text/plain": [
       "2"
      ]
     },
     "execution_count": 69,
     "metadata": {},
     "output_type": "execute_result"
    }
   ],
   "source": [
    "import random\n",
    "\n",
    "random.randint(0,len(data['text'])-1)"
   ]
  },
  {
   "cell_type": "markdown",
   "metadata": {},
   "source": [
    "では、全体のコードを載せておきます。"
   ]
  },
  {
   "cell_type": "code",
   "execution_count": 7,
   "metadata": {},
   "outputs": [
    {
     "data": {
      "text/plain": [
       "<Response [200]>"
      ]
     },
     "execution_count": 7,
     "metadata": {},
     "output_type": "execute_result"
    }
   ],
   "source": [
    "import os\n",
    "import json\n",
    "from requests_oauthlib import OAuth1Session\n",
    "from dotenv import find_dotenv, load_dotenv\n",
    "import gspread # グーグルスプレッドシートを操作する為にimport\n",
    "from google.oauth2.service_account import Credentials # グーグルスプレッドシートの認証情報設定の為にimport\n",
    "from dotenv import find_dotenv, load_dotenv\n",
    "import requests\n",
    "import random\n",
    "\n",
    "\n",
    "# .envファイルを探して読み込む\n",
    "env_file = find_dotenv()\n",
    "load_dotenv(env_file)  \n",
    "\n",
    "# 認証情報設定\n",
    "CONSUMER_KEY = os.environ.get('CONSUMER_KEY')\n",
    "CONSUMER_SECRET = os.environ.get('CONSUMER_SECRET')\n",
    "ACCESS_KEY = os.environ.get('ACCESS_KEY')\n",
    "ACCESS_KEY_SECRET = os.environ.get('ACCESS_KEY_SECRET')\n",
    "SPREADSHEET_KEY = os.environ.get('SPREADSHEET_KEY')\n",
    "\n",
    "\n",
    "# 認証情報設定\n",
    "# 2つのAPIを記述しないとリフレッシュトークンを3600秒毎に発行し続けなければならない\n",
    "scopes = [\n",
    "    'https://www.googleapis.com/auth/spreadsheets',\n",
    "    'https://www.googleapis.com/auth/drive'\n",
    "]\n",
    "\n",
    "# ダウンロードしたjsonファイル名をクレデンシャル変数に設定（秘密鍵、Pythonファイルから読み込みしやすい位置に置く）\n",
    "#※Pythonファイルと同じ位置にjsonファイルを置く\n",
    "credentials = Credentials.from_service_account_file(\n",
    "    'organic-duality-aaaaaa.json',\n",
    "    scopes=scopes\n",
    ")\n",
    "# OAuth2の資格情報を使用してGoogleAPIにログイン\n",
    "gc = gspread.authorize(credentials)\n",
    "\n",
    "#共有設定したスプレッドシートのワークブックを開く\n",
    "workbook = gc.open_by_key(SPREADSHEET_KEY)\n",
    "\n",
    "# ワークシートを開く\n",
    "worksheet = workbook.worksheet('ツイート用シート')\n",
    "\n",
    "# 辞書型のキーになる情報を用意\n",
    "info_list = [\n",
    "        'text',\n",
    "        'img1',\n",
    "        'img2',\n",
    "        'img3',\n",
    "        'img4',\n",
    "]\n",
    "\n",
    "# 空の辞書型を用意\n",
    "data = {}\n",
    "\n",
    "# for 1~5列をfor文で回す\n",
    "for i in range(0,5):\n",
    "    data[info_list[i]] = worksheet.col_values(i+1)[1:] # 辞書型で投稿内容と画像idを格納\n",
    "\n",
    "# 各種ツイッターのキーをセット　CONSUMER_KEY, CONSUMER_SECRET, ACCESS_KEY, ACCESS_KEY_SECRET\n",
    "CONSUMER_KEY = os.environ.get('CONSUMER_KEY')\n",
    "CONSUMER_SECRET = os.environ.get('CONSUMER_SECRET')\n",
    "ACCESS_KEY = os.environ.get('ACCESS_KEY')\n",
    "ACCESS_KEY_SECRET = os.environ.get('ACCESS_KEY_SECRET')\n",
    "SPREADSHEET_KEY = os.environ.get('SPREADSHEET_KEY')\n",
    "\n",
    "# OAuth1Sessionの認証処理\n",
    "twitter = OAuth1Session(CONSUMER_KEY, CONSUMER_SECRET, ACCESS_KEY, ACCESS_KEY_SECRET)\n",
    "\n",
    "#エンドポイント\n",
    "url_text = 'https://api.twitter.com/1.1/statuses/update.json'\n",
    "url_media = \"https://upload.twitter.com/1.1/media/upload.json\"\n",
    "\n",
    "# 投稿内容をランダムに選択\n",
    "index_rand = random.randint(0,len(data['text'])-1)\n",
    "\n",
    "# 投稿内容を選択 : info_list[0] = 'text'\n",
    "text = data[info_list[0]][index_rand]\n",
    "\n",
    "# 空ファイルを用意する\n",
    "image_id_list = []\n",
    "\n",
    "for i in range(1,5):\n",
    "    #===================\n",
    "    # 画像\n",
    "    # 画像 URL\n",
    "    #GoogleDriveの画像をTwitterサーバーから取得\n",
    "    #アップロードした画像のID取得\n",
    "    #===================\n",
    "    image_id = data[info_list[i]][index_rand]\n",
    "    image_url = 'https://drive.google.com/uc?id=' + image_id\n",
    "    response = requests.get(image_url)\n",
    "    image = response.content\n",
    "    files = {\"media\" : image}\n",
    "    req_media = twitter.post(url_media, files = files)\n",
    "    media_id = json.loads(req_media.text)['media_id_string']\n",
    "    image_id_list.append(media_id)\n",
    "\n",
    "media_ids = ','.join(image_id_list)\n",
    "\n",
    "# ツイート(複数画像をアップロードする場合は[\"test1.jpg,test2.jpg\"])みたいな感じ\n",
    "params = {'status': text,'media_ids': media_ids}\n",
    "\n",
    "# 画像付きツイート投稿\n",
    "req=twitter.post(url_text, params = params)\n",
    "req"
   ]
  },
  {
   "cell_type": "markdown",
   "metadata": {},
   "source": [
    "これでGoogleスプレッドシートの操作に書いた内容をランダムに画像付きで投稿できました(^^)/\n",
    "\n",
    "![画像](https://drive.google.com/uc?id=1DcN0YWqb_W-8nMqrcM3caKLCYNBZljzz)"
   ]
  },
  {
   "cell_type": "code",
   "execution_count": null,
   "metadata": {},
   "outputs": [],
   "source": []
  }
 ],
 "metadata": {
  "kernelspec": {
   "display_name": "Python 3",
   "language": "python",
   "name": "python3"
  },
  "language_info": {
   "codemirror_mode": {
    "name": "ipython",
    "version": 3
   },
   "file_extension": ".py",
   "mimetype": "text/x-python",
   "name": "python",
   "nbconvert_exporter": "python",
   "pygments_lexer": "ipython3",
   "version": "3.8.4"
  }
 },
 "nbformat": 4,
 "nbformat_minor": 4
}
