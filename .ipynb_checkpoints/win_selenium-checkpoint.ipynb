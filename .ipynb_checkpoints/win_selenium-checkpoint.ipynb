{
 "cells": [
  {
   "cell_type": "markdown",
   "metadata": {},
   "source": [
    "# Day5 - 9\n",
    "\n",
    "# Day5\n",
    "\n",
    "## 01 検索結果の1位から10位までのURLを取得"
   ]
  },
  {
   "cell_type": "markdown",
   "metadata": {},
   "source": [
    "### 必要なモジュールのインポート"
   ]
  },
  {
   "cell_type": "code",
   "execution_count": 9,
   "metadata": {},
   "outputs": [],
   "source": [
    "# ブラウザを自動操作するためseleniumをimport\n",
    "from selenium import webdriver\n",
    "\n",
    "# seleniumでEnterキーを送信する際に使用するのでimport\n",
    "from selenium.webdriver.common.keys import Keys\n",
    "# seleniumでヘッドレスモードを指定するためにimport\n",
    "from selenium.webdriver.chrome.options import Options\n",
    "# 待ち時間を指定するためにtimeをimport\n",
    "import time\n",
    "# 正規表現にマッチする文字列を探すためにreをimport\n",
    "import re\n",
    "\n",
    "# Googleのトップページ\n",
    "URL = 'https://www.google.co.jp'"
   ]
  },
  {
   "cell_type": "markdown",
   "metadata": {},
   "source": [
    "### urlの取得"
   ]
  },
  {
   "cell_type": "code",
   "execution_count": 82,
   "metadata": {},
   "outputs": [],
   "source": [
    "# seleniumで自動操作するブラウザはGoogleChrome\n",
    "# Optionsオブジェクトを作成\n",
    "options = Options()\n",
    "# ヘッドレスモードを有効にする\n",
    "# options.add_argument('--headless')\n",
    "\n",
    "# ChromeのWebDriverオブジェクトを作成\n",
    "# driver = webdriver.Chrome(options=Options)\n",
    "driver = webdriver.Chrome(options=options, executable_path=r\"C:\\Work\\Python\\20201109_Daytry_Python\\Day5\\google_weak_keyword_search\\chromedriver.exe\")\n",
    "\n",
    "# Googleのトップページを開く\n",
    "# 2秒待機（読み込みのため）\n",
    "driver.get(URL)\n",
    "\n",
    "# 検索テキストボックスの要素をname属性から取得\n",
    "input_element = driver.find_element_by_name('q')\n",
    "\n",
    "# 検索テキストボックスに入力されている文字列を消去\n",
    "input_element.clear()\n",
    "\n",
    "# 検索テキストボックスにキーワードを入力\n",
    "input_element.send_keys('転職')\n",
    "\n",
    "# Enterキーを送信\n",
    "input_element.send_keys(Keys.RETURN)\n",
    "\n",
    "# 2秒待機\n",
    "time.sleep(2)\n",
    "\n",
    "# 各ページのURLを入れるためのリストを指定\n",
    "urls = []\n",
    "\n",
    "# a要素（各ページの1位から10位までのURL）取得\n",
    "objects = driver.find_elements_by_css_selector('div.yuRUbf > a')\n",
    "#rso > div:nth-child(1) > div > div.yuRUbf > a\n",
    "\n",
    "if objects:\n",
    "    for object in objects:\n",
    "        urls.append(object.get_attribute('href'))\n",
    "else:\n",
    "    print('URLが習得できませんでした。')\n",
    "\n",
    "# 各ページのURLをリストに追加\n",
    "# 各ページのURLが取得できなかった場合は警告を出す\n",
    "# 各ページのURLを戻り値に指定"
   ]
  },
  {
   "cell_type": "markdown",
   "metadata": {},
   "source": [
    "### 所得された上位10件のURL確認をする"
   ]
  },
  {
   "cell_type": "code",
   "execution_count": 84,
   "metadata": {},
   "outputs": [
    {
     "data": {
      "text/plain": [
       "['https://employment.en-japan.com/',\n",
       " 'https://tenshoku.mynavi.jp/',\n",
       " 'https://doda.jp/',\n",
       " 'https://next.rikunabi.com/lst/',\n",
       " 'https://woman-type.jp/',\n",
       " 'https://job.j-sen.jp/',\n",
       " 'https://mid-tenshoku.com/',\n",
       " 'https://type.jp/']"
      ]
     },
     "execution_count": 84,
     "metadata": {},
     "output_type": "execute_result"
    }
   ],
   "source": [
    "urls"
   ]
  },
  {
   "cell_type": "markdown",
   "metadata": {},
   "source": [
    "### objectsを見てみる"
   ]
  },
  {
   "cell_type": "code",
   "execution_count": 85,
   "metadata": {},
   "outputs": [
    {
     "data": {
      "text/plain": [
       "[<selenium.webdriver.remote.webelement.WebElement (session=\"a418e72409918c32993d50da037cf9c4\", element=\"df723c42-8570-4457-a782-2c7679b41d48\")>,\n",
       " <selenium.webdriver.remote.webelement.WebElement (session=\"a418e72409918c32993d50da037cf9c4\", element=\"c5d08563-5b31-484c-be45-5ca45d0a5404\")>,\n",
       " <selenium.webdriver.remote.webelement.WebElement (session=\"a418e72409918c32993d50da037cf9c4\", element=\"4050e03b-683b-4a66-8ef3-4e7ed2114aab\")>,\n",
       " <selenium.webdriver.remote.webelement.WebElement (session=\"a418e72409918c32993d50da037cf9c4\", element=\"00b2b289-b827-4d19-a972-667d8345f834\")>,\n",
       " <selenium.webdriver.remote.webelement.WebElement (session=\"a418e72409918c32993d50da037cf9c4\", element=\"0adaddfe-a9ef-4fac-99cd-0a22dcdb77c8\")>,\n",
       " <selenium.webdriver.remote.webelement.WebElement (session=\"a418e72409918c32993d50da037cf9c4\", element=\"9025c627-31fa-4510-b133-68ba9e39c684\")>,\n",
       " <selenium.webdriver.remote.webelement.WebElement (session=\"a418e72409918c32993d50da037cf9c4\", element=\"6ac7ad79-6dc6-4373-9893-036d98be8038\")>,\n",
       " <selenium.webdriver.remote.webelement.WebElement (session=\"a418e72409918c32993d50da037cf9c4\", element=\"692fb57c-72fc-412d-b3b2-b9fef96e7d35\")>]"
      ]
     },
     "execution_count": 85,
     "metadata": {},
     "output_type": "execute_result"
    }
   ],
   "source": [
    "objects"
   ]
  },
  {
   "cell_type": "code",
   "execution_count": 86,
   "metadata": {},
   "outputs": [
    {
     "data": {
      "text/plain": [
       "list"
      ]
     },
     "execution_count": 86,
     "metadata": {},
     "output_type": "execute_result"
    }
   ],
   "source": [
    "type(objects)"
   ]
  },
  {
   "cell_type": "code",
   "execution_count": 87,
   "metadata": {},
   "outputs": [
    {
     "data": {
      "text/plain": [
       "<selenium.webdriver.remote.webelement.WebElement (session=\"a418e72409918c32993d50da037cf9c4\", element=\"df723c42-8570-4457-a782-2c7679b41d48\")>"
      ]
     },
     "execution_count": 87,
     "metadata": {},
     "output_type": "execute_result"
    }
   ],
   "source": [
    "objects[0]"
   ]
  },
  {
   "cell_type": "markdown",
   "metadata": {},
   "source": [
    "## 02 プログラムの全体像の解説、with構文を使用したテキストファイルの読み込み"
   ]
  },
  {
   "cell_type": "markdown",
   "metadata": {},
   "source": [
    "### with open ~ as fの動作確認\n",
    "\n",
    "\n",
    "Pythonの文字コードは、encoding=\"utf-8\"\n",
    "\n",
    "https://konprogrammer.hatenablog.com/entry/2020/02/11/210559"
   ]
  },
  {
   "cell_type": "code",
   "execution_count": 88,
   "metadata": {},
   "outputs": [
    {
     "name": "stdout",
     "output_type": "stream",
     "text": [
      "['転職\\n', '転職サイト\\n', '転職エージェント\\n', '転職会議\\n', '転職 履歴書\\n', '転職理由\\n', '転職 面接\\n', '転職 志望動機\\n', '転職 大阪\\n', '転職サイト おすすめ\\n', '転職 挨拶\\n', '転職 愛知\\n', '転職 アプリ\\n', '転職 挨拶 メール\\n', '転職 アパレル\\n', '転職 挨拶 返信\\n', '転職 秋田\\n', '転職 当たり前\\n', '転職 アフィリエイト\\n', '転職 アルバイト\\n', '転職 今\\n', '転職 it\\n', '転職 茨城\\n', '転職 今の時期\\n', '転職 意味\\n', '転職 異業種\\n', '転職 indeed\\n', '転職 一年目 辛い\\n', '転職 石川県\\n', '転職 イベント\\n', '転職 占い\\n', '転職 うまくいかない\\n', '転職 うつ\\n', '転職 宇都宮\\n', '転職 web面接\\n', '転職 webテスト\\n', '転職 受からない\\n', '転職 webデザイナー\\n', '転職 裏切り\\n', '転職 uターン\\n', '転職 英語\\n', '転職 エージェント\\n', '転職 エンジニア\\n', '転職 営業\\n', '転職 en\\n', '転職 愛媛\\n', '転職 エントリーシート\\n', '転職 英語力\\n', '転職 映画\\n', '転職 選び方\\n', '転職 おすすめ\\n', '転職 岡山\\n', '転職 沖縄\\n', '転職 大分\\n', '転職 大手\\n', '転職 女\\n', '転職 多い\\n', '転職 応募数\\n', '転職 応募 メール\\n', '転職 看護師\\n', '転職 確定申告\\n', '転職 髪色\\n', '転職 鹿児島\\n', '転職 海外\\n', '転職 香川\\n', '転職 髪型\\n', '転職 回数\\n', '転職 神奈川\\n', '転職 金沢\\n', '転職 求人\\n', '転職 京都\\n', '転職 期間\\n', '転職 給与交渉\\n', '転職 給料\\n', '転職 決まらない\\n', '転職 きっかけ\\n', '転職 キャリアアップ\\n', '転職 希望年収\\n', '転職 企業研究\\n', '転職 口コミ\\n', '転職 熊本\\n', '転職 繰り返す\\n', '転職 空白期間\\n', '転職 クレジットカード\\n', '転職 倉敷\\n', '転職 久留米\\n', '転職 クリエイティブ\\n', '転職 空白期間 1年\\n', '転職 靴\\n', '転職 健康保険\\n', '転職 健康診断\\n', '転職 経理\\n', '転職 結婚\\n', '転職 決断\\n', '転職 掲示板\\n', '転職 契約社員\\n', '転職 研究職\\n', '転職 建築\\n', '転職 県外\\n', '転職 コロナ 影響\\n', '転職 公務員\\n', '転職 後悔\\n', '転職 神戸\\n', '転職 怖い\\n', '転職 国民健康保険\\n', '転職 雇用保険\\n', '転職 厚生年金\\n', '転職 雇用保険被保険者証\\n', '転職 工場\\n', '転職 札幌\\n', '転職 サイト\\n', '転職 最終面接\\n', '転職 埼玉\\n', '転職 最終面接 結果\\n', '転職 三重\\n', '転職 サイト おすすめ\\n', '転職 探し方\\n', '転職 佐賀\\n', '転職 最終面接 通過率\\n', '転職 資格\\n', '転職 失敗\\n', '転職 証明写真\\n', '転職 診断\\n', '転職 質問\\n', '転職 職務経歴書\\n', '転職 静岡\\n', '転職 職種\\n', '転職 初日 挨拶\\n', '転職 スーツ\\n', '転職 スキル\\n', '転職 スカウト\\n', '転職 ストレス\\n', '転職 スーツ 女性\\n', '転職 スーツ ユニクロ\\n', '転職 進め方\\n', '転職 スケジュール\\n', '転職 スキルアップ\\n', '転職 スキルなし\\n', '転職 仙台\\n', '転職 千葉\\n', '転職 成功\\n', '転職 正社員\\n', '転職 se\\n', '転職 成功率\\n', '転職 成功体験\\n', '転職 説明会\\n', '転職 製造業\\n', '転職 選考辞退 メール\\n', '転職 相談\\n', '転職 送付状\\n', '転職 卒業証明書\\n', '転職 総務\\n', '転職 卒業証明書 不要\\n', '転職 総合職\\n', '転職 相談 上司\\n', '転職 ソニー\\n', '転職 即戦力\\n', '転職 速報\\n', '転職 タイミング\\n', '転職 退職理由\\n', '転職 退職金\\n', '転職 退職\\n', '転職 タロット\\n', '転職 短所\\n', '転職 体験談\\n', '転職 退職日\\n', '転職 タイプ\\n', '転職 大変\\n', '転職 長所 短所\\n', '転職 直接応募\\n', '転職 注意点\\n', '転職 貯金\\n', '転職 中国語\\n', '転職 地方\\n', '転職 千葉県\\n', '転職 中小企業\\n', '転職 茶髪\\n', '転職 中途\\n', '転職 辛い\\n', '転職 疲れた\\n', '転職 強み\\n', '転職 つくば\\n', '転職 つらい\\n', '転職 伝え方\\n', '転職 疲れる\\n', '転職 ついていけない\\n', '転職 通過率\\n', '転職 通勤時間\\n', '転職 適性検査\\n', '転職 手続き\\n', '転職 適性検査 ボロボロ\\n', '転職 テレワーク\\n', '転職 手順\\n', '転職 適性検査とは\\n', '転職 適性検査 落ちる\\n', '転職 手当\\n', '転職 適性\\n', '転職 適性検査 できなかった\\n', '転職 東京\\n', '転職 富山\\n', '転職 徳島\\n', '転職 栃木\\n', '転職 toeic\\n', '転職 とは\\n', '転職 豊橋\\n', '転職 特技\\n', '転職 特別徴収\\n', '転職 東京 女性\\n', '転職 名古屋\\n', '転職 内定 辞退\\n', '転職 何歳まで\\n', '転職 流れ\\n', '転職 悩む\\n', '転職 内定後\\n', '転職 内定 保留\\n', '転職 何年目\\n', '転職 奈良\\n', '転職 長野\\n', '転職 新潟\\n', '転職 人気\\n', '転職 入社日\\n', '転職 二次面接\\n', '転職 人間関係\\n', '転職 妊娠\\n', '転職 入社時期\\n', '転職 入社 挨拶\\n', '転職 逃げ\\n', '転職 二年目\\n', '転職 沼津\\n', '転職 ぬいぐるみ\\n', '転職 沼津 三島\\n', '転職 沼津市 正社員\\n', '転職 年齢\\n', '転職 年収\\n', '転職 年金\\n', '転職 年収 下がる\\n', '転職 年金手帳\\n', '転職 年末調整\\n', '転職 年収交渉\\n', '転職 ネクタイ\\n', '転職 年齢制限\\n', '転職 ネイル\\n', '転職 農業\\n', '転職 能力不足\\n', '転職 note\\n', '転職 能力\\n', '転職 納税通知書\\n', '転職 ノーカラージャケット\\n', '転職 ノウハウ\\n', '転職 のし\\n', '転職 ノート\\n', '転職 農業関係\\n', '転職 ハローワーク\\n', '転職 浜松\\n', '転職 半年\\n', '転職 派遣\\n', '転職 初出勤\\n', '転職 ハイクラス\\n', '転職 働きながら\\n', '転職 初めて\\n', '転職 始め方\\n', '転職 半年後\\n', '転職 広島\\n', '転職 必要書類\\n', '転職 筆記試験\\n', '転職 評判\\n', '転職 引っ越し\\n', '転職 姫路\\n', '転職 引き止め\\n', '転職 引っ越し費用\\n', '転職 秘書\\n', '転職 兵庫県\\n', '転職 福岡\\n', '転職 不安\\n', '転職 服装\\n', '転職 不動産\\n', '転職 福井\\n', '転職 封筒\\n', '転職 副業\\n', '転職 フリーター\\n', '転職 不採用 返信\\n', '転職 富士市\\n', '転職 返信\\n', '転職 偏差値\\n', '転職 ヘッドハンティング\\n', '転職 平均\\n', '転職 平均年齢\\n', '転職 編集\\n', '転職 平均期間\\n', '転職 返事\\n', '転職 平均回数\\n', '転職 ヘアカラー\\n', '転職 保険証\\n', '転職 本\\n', '転職 方法\\n', '転職 保険\\n', '転職 北海道\\n', '転職 保育園\\n', '転職 ホワイト\\n', '転職 本人希望欄\\n', '転職 保証人\\n', '転職 保育士\\n', '転職 マイナビ\\n', '転職 迷う\\n', '転職 松山\\n', '転職 まとめ\\n', '転職 マーケティング\\n', '転職 ママ\\n', '転職 松本市\\n', '転職 前の会社\\n', '転職 マイナンバー\\n', '転職 マッチング\\n', '転職 未経験\\n', '転職 宮城\\n', '転職 宮崎\\n', '転職 未経験 30代\\n', '転職 未経験 志望動機\\n', '転職 水戸\\n', '転職 身元保証人\\n', '転職 未経験 おすすめ\\n', '転職 三重県\\n', '転職 未経験 20代\\n', '転職 難しい\\n', '転職 無職期間\\n', '転職 無理\\n', '転職 無資格\\n', '転職 無職\\n', '転職 向いている\\n', '転職 向いてない\\n', '転職 無能\\n', '転職 無職期間 保険\\n', '転職 無職期間 手続き\\n', '転職 面接 質問\\n', '転職 面接 自己紹介\\n', '転職 メール 返信\\n', '転職 面接 服装\\n', '転職 メッセージ\\n', '転職 面接 逆質問\\n', '転職 面接 スーツ\\n', '転職 面接 メール\\n', '転職 面接 流れ\\n', '転職 盛岡\\n', '転職 moto\\n', '転職 モチベーション\\n', '転職 ものづくり\\n', '転職 持ち物\\n', '転職 目的\\n', '転職 申し訳ない\\n', '転職 戻りたい\\n', '転職 求められるスキル\\n', '転職 もったいない\\n', '転職 やり方\\n', '転職 山梨\\n', '転職 やること\\n', '転職 山形\\n', '転職 薬剤師\\n', '転職 辞めたい\\n', '転職 辞めてから\\n', '転職 役員面接\\n', '転職 家賃補助\\n', '転職 やめとけ\\n', '転職 有利 資格\\n', '転職 勇気\\n', '転職 夢占い\\n', '転職 有利\\n', '転職 有休\\n', '転職 優先順位\\n', '転職 有利 スキル\\n', '転職 有利 職種\\n', '転職 優良企業\\n', '転職 憂鬱\\n', '転職 横浜\\n', '転職 四日市\\n', '転職 弱み\\n', '転職 寄せ書き\\n', '転職 よくある質問\\n', '転職 横須賀\\n', '転職 米子\\n', '転職 youtube\\n', '転職 よかった\\n', '転職 youtuber\\n', '転職 ランキング\\n', '転職 楽な仕事\\n', '転職 楽天\\n', '転職 ライター\\n', '転職 ライター 未経験\\n', '転職 ライフワークバランス\\n', '転職 ランキング it\\n', '転職 落選 返信\\n', '転職 楽になった\\n', '転職 ランクダウン\\n', '転職 理由\\n', '転職 履歴書 写真\\n', '転職 履歴書 志望動機\\n', '転職 履歴書 手書き\\n', '転職 リクナビ\\n', '転職 リクルート\\n', '転職 履歴書 職歴\\n', '転職 履歴書 フォーマット\\n', '転職 離職票\\n', '転職 類語\\n', '転職 ルート営業\\n', '転職 ルール\\n', '転職 ルーチンワーク\\n', '転職 ruby\\n', '転職 留守電\\n', '転職 ルート配送\\n', '転職 ルート営業 志望動機\\n', '転職 ルーン\\n', '転職 ルート営業 大阪\\n', '転職 レジュメ\\n', '転職 連絡\\n', '転職 例文\\n', '転職 連絡 来ない\\n', '転職 レベル上げ\\n', '転職 恋愛\\n', '転職 連絡 返信\\n', '転職 レベル\\n', '転職 例\\n', '転職 レディーススーツ\\n', '転職 ローン\\n', '転職 論文\\n', '転職 労働条件 確認\\n', '転職 労務\\n', '転職 ロンダリング\\n', '転職 ロボット\\n', '転職 ローン 車\\n', '転職 論文 例文\\n', '転職 労力\\n', '転職 ロードマップ\\n', '転職 割合\\n', '転職 和歌山\\n', '転職 わからない\\n', '転職 悪いこと\\n', '転職 ワーママ\\n', '転職 ワークライフバランス\\n', '転職 若手\\n', '転職 ワークポート\\n', '転職 ワイシャツ\\n', '転職 若いうち\\n', '転職 work\\n', '転職 wordpress\\n', '転職 woman\\n', '転職 worker\\n', '転職 を通じて実現 したい こと\\n', '転職 ntt\\n', '転職 nttデータ\\n', '転職 npo\\n', '転職 nhk\\n', '転職 ngo\\n', '転職 nri\\n', '転職 ngワード\\n', '転職 nttデータから\\n', '転職 ntt西日本\\n', '転職 nttコムウェア\\n', '転職 学歴\\n', '転職 外資\\n', '転職 外国人\\n', '転職 学校事務\\n', '転職 学歴不問\\n', '転職 がるちゃん\\n', '転職 画像\\n', '転職 学校\\n', '転職 学歴 いつから\\n', '転職 学歴詐称\\n', '転職 逆質問\\n', '転職 業界\\n', '転職 岐阜\\n', '転職 業界研究\\n', '転職 技術職\\n', '転職 銀行\\n', '転職 銀行員\\n', '転職 業界 おすすめ\\n', '転職 行政書士\\n', '転職 業界 一覧\\n', '転職 群馬\\n', '転職 グリーン\\n', '転職 グーグル\\n', '転職 グラフィックデザイナー\\n', '転職 グローバル\\n', '転職 グループ会社\\n', '転職 グループ面接\\n', '転職 グリー\\n', '転職 グループディスカッション\\n', '転職 群馬県 正社員\\n', '転職 源泉徴収票\\n', '転職 現状\\n', '転職 現在\\n', '転職 ゲーム\\n', '転職 ゲーム業界\\n', '転職 現職\\n', '転職 源泉徴収票 確定申告\\n', '転職 源泉徴収票 1月入社\\n', '転職 源泉徴収票 いつ\\n', '転職 現在の年収\\n', '転職 合同説明会\\n', '転職 google\\n', '転職 合格率\\n', '転職 御殿場\\n', '転職 合否\\n', '転職 合格フラグ\\n', '転職 ゴルフ\\n', '転職 語学\\n', '転職 ご縁\\n', '転職 合格通知\\n', '転職 在宅\\n', '転職 在職中\\n', '転職 在宅ワーク\\n', '転職 残業なし\\n', '転職 罪悪感\\n', '転職 在籍確認\\n', '転職 雑誌\\n', '転職 残業\\n', '転職 挫折\\n', '転職 挫折経験\\n', '転職 女性\\n', '転職 自己pr\\n', '転職 住民税\\n', '転職 自己紹介\\n', '転職 時期\\n', '転職 自己分析\\n', '転職 事務\\n', '転職 準備\\n', '転職 住宅ローン\\n', '転職 事務職\\n', '転職 逗子\\n', '転職 ズル休み\\n', '転職 ずっとある求人\\n', '転職 ずる休み\\n', '転職 頭痛\\n', '転職 ずっと悩む\\n', '転職 税金\\n', '転職 税理士\\n', '転職 税理士事務所\\n', '転職 絶望\\n', '転職 前兆\\n', '転職 前日\\n', '転職 前前職\\n', '転職 全滅\\n', '転職 全落ち\\n', '転職 ゼネコン\\n', '転職 増加\\n', '転職 造園\\n', '転職 zoom\\n', '転職 zozo\\n', '転職 増加 理由\\n', '転職 造船\\n', '転職 zozotown\\n', '転職 贈答品\\n', '転職 増員\\n', '転職 第二新卒\\n', '転職 高卒\\n', '転職 高収入\\n', '転職 大学職員\\n', '転職 大企業\\n', '転職 妥協\\n', '転職 男性\\n', '転職 大企業へ\\n', '転職 第一志望 落ちた\\n', '転職 団体職員\\n', '転職 diy\\n', '転職 div\\n', '転職 dic\\n', '転職 dip\\n', '転職 di\\n', '薬剤師 転職 di\\n', 'dior 転職\\n', 'disco 転職\\n', 'dic 面接 転職\\n', 'diva 転職\\n', '転職 doda\\n', '転職 疲れ\\n', '転職 釣り\\n', '転職 ドラクエウォーク\\n', '転職 動機\\n', '転職 同業他社\\n', '転職 ドライバー\\n', '転職 ドラクエ3\\n', '転職 同時進行 何社\\n', '転職 どうする\\n', '転職 電話\\n', '転職 出戻り\\n', '転職 できない\\n', '転職 デメリット\\n', '転職 デザイナー\\n', '転職 デューダ\\n', '転職 デザイン\\n', '転職 電話面談\\n', '転職 電話相談\\n', '転職 データサイエンティスト\\n', '転職 どうやって\\n', '転職 土日休み\\n', '転職 バッグ\\n', '転職 バイト\\n', '転職 倍率\\n', '転職 バレる\\n', '転職 バッグ 女性\\n', '転職 バナー\\n', '転職 バッグ ロンシャン\\n', '転職 バッグ 色\\n', '転職 媒体\\n', '転職 バイヤー\\n', '転職 ビズリーチ\\n', '転職 美容\\n', '転職 美容師\\n', '転職 病院\\n', '転職 ビルメン\\n', '転職 ビル管理\\n', '転職 美容業界\\n', '転職 病気\\n', '転職 ビザ更新\\n', '転職 ビザ\\n', '転職 ブログ\\n', '転職 ブランク\\n', '転職 物流\\n', '転職 ブラウス\\n', '転職 ブランク 1ヶ月\\n', '転職 ブランク 5年\\n', '転職 ブラックリスト\\n', '転職 分析\\n', '転職 ブライダル\\n', '転職 ブランク 半年\\n', '転職 ベンチャー\\n', '転職 勉強\\n', '転職 別業界\\n', '転職 弁護士\\n', '転職 別ポジション 提案\\n', '転職 ベンチャー企業\\n', '転職 別ポジション 打診\\n', '転職 別の言い方\\n', '転職 勉強 おすすめ\\n', '転職 ベネッセ\\n', '転職 ボーナス\\n', '転職 ボーナス いつから\\n', '転職 貿易事務\\n', '転職 簿記\\n', '転職 募集\\n', '転職 簿記2級\\n', '転職 ボーナスあり\\n', '転職 妨害\\n', '転職 簿記3級\\n', '転職 ボーナスなし\\n', '転職 パート\\n', '転職 パソナ\\n', '転職 パンプス\\n', '転職 パワハラ\\n', '転職 パソコン\\n', '転職 パン屋\\n', '転職 パーマ\\n', '転職 パワーストーン\\n', '転職 パナソニック\\n', '転職 パティシエ\\n', '転職 ピアス\\n', '転職 ピーク\\n', '転職 ピアス 面接\\n', '転職 ピンとこない\\n', '転職 ピーク 時期\\n', '転職 プレゼント\\n', '転職 プログラマー\\n', '転職 プレゼント 女性\\n', '転職 プログラミングスクール\\n', '転職 プログラマー 未経験\\n', '転職 プレッシャー\\n', '転職 プレゼン\\n', '転職 プロジェクトマネージャー\\n', '転職 プログラマ\\n', '転職 プロポーズ\\n', '転職 ペット\\n', '転職 ペット業界\\n', '転職 ペットショップ\\n', '転職 ペーパードライバー\\n', '転職 peファンド\\n', '転職 ペットフード\\n', '転職 ペーパーテスト\\n', '転職 ポートフォリオ\\n', '転職 ポイント\\n', '転職 ポートフォリオ 作り方\\n', '転職 ポートフォリオ エンジニア\\n', '転職 ポジティブ\\n', '転職 ポートフォリオとは\\n', '転職 ポートフォリオ デザイナー\\n', '転職 ポジション\\n', '転職 ポータブルスキル\\n', '転職 ポジション打診\\n', '転職 cm\\n', '転職 cad\\n', '転職 green\\n', '転職 line\\n', '転職 linkedin\\n', '転職 lgbt\\n', '転職 lp\\n', '転職 ff14\\n', '転職 ccna\\n', '転職 line相談\\n', '転職 ccnp\\n', '転職 ldh\\n', '転職 lixil\\n', '転職 pr\\n', '転職 qiita\\n', '転職 q&a\\n', '転職 qaエンジニア\\n', '転職 qc検定\\n', '転職 qms\\n', 'qc検定 1級 転職\\n', 'qc検定 2級 転職\\n', 'qc検定 転職 有利\\n', 'qvc 転職\\n', 'qtnet 転職\\n', '転職 vba\\n', '転職 vip\\n', '転職 vr\\n', '転職 vmware\\n', '転職 vc\\n', '転職 vtuber\\n', '転職 vb.net\\n', '転職 vipper\\n', '転職 vmd\\n', '転職 web\\n', '転職 web系\\n', '転職 女性 20代\\n', '転職 0回\\n', '転職 0から\\n', '転職 0学占い\\n', '0歳児 転職\\n', '0歳 転職\\n', '住民税 0円 転職\\n', '源泉徴収税額 0円 転職\\n', '0地点 転職\\n', '0学占い 精算期 転職\\n', '0学占い 0地点 転職\\n', '転職 1ヶ月\\n', '転職 1年\\n', '転職 1年目\\n', '転職 1年未満\\n', '転職 1000万\\n', '転職 10回\\n', '転職 1週間\\n', '転職 1年後\\n', '転職 10回 職務経歴書\\n', '転職 1日目\\n', '転職 20代\\n', '転職 2ch\\n', '転職 2年目\\n', '転職 20代後半\\n', '転職 2020\\n', '転職 2回目\\n', '転職 25歳\\n', '転職 2次面接\\n', '転職 28歳\\n', '転職 29歳\\n', '転職 30代\\n', '転職 35歳\\n', '転職 30歳\\n', '転職 3年目\\n', '転職 3ヶ月\\n', '転職 30代 未経験\\n', '転職 3回目\\n', '転職 30代 女性\\n', '転職 30代後半\\n', '転職 35歳まで\\n', '転職 40代\\n', '転職 40歳\\n', '転職 45歳\\n', '転職 40代 女性\\n', '転職 4年目\\n', '転職 4月入社 ボーナス\\n', '転職 4月\\n', '転職 4回目\\n', '転職 40代 男性\\n', '転職 4月入社\\n', '転職 50代\\n', '転職 5ch\\n', '転職 50歳\\n', '転職 5月入社\\n', '転職 5ch まとめ\\n', '転職 5年目\\n', '転職 55歳\\n', '転職 50歳 女性\\n', '転職 50\\n', '転職 5回\\n', '転職 6月\\n', '転職 60歳\\n', '転職 600万\\n', '転職 6ヶ月\\n', '転職 6月入社\\n', '転職 6年目\\n', '転職 6月 住民税\\n', '転職 600万円\\n', '転職 6社目\\n', '転職 6回\\n', '転職 7月入社\\n', '転職 7月\\n', '転職 700万\\n', '転職 7回\\n', '転職 7年目\\n', '転職 7回目\\n', '転職 700万円\\n', '転職 7社目\\n', '転職 700万以上\\n', '転職 7月から\\n', '転職 8月入社\\n', '転職 800万以上\\n', '転職 8月\\n', '転職 800万\\n', '転職 8ヶ月\\n', '転職 800万円以上\\n', '転職 8回\\n', '転職 800万 年収\\n', '転職 8ヶ月 辞めたい\\n', '転職 8ヶ月 妊娠\\n', '転職 9月入社\\n', '転職 900万\\n', '転職 9ヶ月 退職\\n', '転職 9時17時\\n', '転職 900万以上\\n', '転職 9月 10月\\n', '転職 9月入社 ボーナス']\n"
     ]
    }
   ],
   "source": [
    "# '検索キーワードリスト.txt'ファイルを読み込み、リストにする\n",
    "# １行ずつ読み込んで改行コードを削除してリストにする\n",
    "\n",
    "with open('検索キーワードリスト.txt',encoding=\"utf-8\") as f:\n",
    "    print(f.readlines())"
   ]
  },
  {
   "cell_type": "code",
   "execution_count": 89,
   "metadata": {},
   "outputs": [],
   "source": [
    "# '検索キーワードリスト.txt'ファイルを読み込み、リストにする\n",
    "# １行ずつ読み込んで改行コードを削除してリストにする\n",
    "\n",
    "with open('検索キーワードリスト.txt',encoding=\"utf-8\") as f:\n",
    "    keywords = [s.rstrip() for s in f.readlines()]\n",
    "    \n",
    "with open('ドメインリスト.txt',encoding=\"utf-8\") as f:\n",
    "    domains = [s.rstrip() for s in f.readlines()]"
   ]
  },
  {
   "cell_type": "markdown",
   "metadata": {},
   "source": [
    "### keywords, domainsを確認する"
   ]
  },
  {
   "cell_type": "code",
   "execution_count": 90,
   "metadata": {},
   "outputs": [
    {
     "data": {
      "text/plain": [
       "['転職',\n",
       " '転職サイト',\n",
       " '転職エージェント',\n",
       " '転職会議',\n",
       " '転職 履歴書',\n",
       " '転職理由',\n",
       " '転職 面接',\n",
       " '転職 志望動機',\n",
       " '転職 大阪',\n",
       " '転職サイト おすすめ']"
      ]
     },
     "execution_count": 90,
     "metadata": {},
     "output_type": "execute_result"
    }
   ],
   "source": [
    "#index = 0~9まで確認\n",
    "keywords[0:10]"
   ]
  },
  {
   "cell_type": "code",
   "execution_count": 91,
   "metadata": {},
   "outputs": [
    {
     "data": {
      "text/plain": [
       "['tenshoku.mynavi.jp', 'doda.jp', 'mynavi-agent.jp', 'www.ecareerfa.jp']"
      ]
     },
     "execution_count": 91,
     "metadata": {},
     "output_type": "execute_result"
    }
   ],
   "source": [
    "domains"
   ]
  },
  {
   "cell_type": "code",
   "execution_count": 92,
   "metadata": {},
   "outputs": [
    {
     "data": {
      "text/plain": [
       "(list, list)"
      ]
     },
     "execution_count": 92,
     "metadata": {},
     "output_type": "execute_result"
    }
   ],
   "source": [
    "#型を確認する\n",
    "type(keywords),type(domains)"
   ]
  },
  {
   "cell_type": "markdown",
   "metadata": {},
   "source": [
    "keywordsとdomainsはリスト型であることがわかります。"
   ]
  },
  {
   "cell_type": "markdown",
   "metadata": {},
   "source": [
    "# Day7\n",
    "\n",
    "## 01 正規表現の基礎、正規表現チェッカーの使い方"
   ]
  },
  {
   "cell_type": "markdown",
   "metadata": {},
   "source": [
    "\n",
    "<a href=\"https://hashikake.com/RegEx\">正規表現の基礎のサイト</a>\n",
    "\n",
    "\n",
    "\n",
    "<a href=\"https://rakko.tools/tools/57/\">正規表現チェッカー</a>"
   ]
  },
  {
   "cell_type": "markdown",
   "metadata": {},
   "source": [
    "## 02 正規表現の最長一致と最短一致"
   ]
  },
  {
   "cell_type": "markdown",
   "metadata": {},
   "source": [
    "# Day8\n",
    "## 01 reモジュールを利用して欲しいテキストを取得する方法①\n",
    "\n",
    "https://note.nkmk.me/python-re-match-search-findall-etc/"
   ]
  },
  {
   "cell_type": "code",
   "execution_count": 93,
   "metadata": {},
   "outputs": [
    {
     "name": "stdout",
     "output_type": "stream",
     "text": [
      "<re.Match object; span=(0, 17), match='uuyr112@gmail.com'>\n"
     ]
    }
   ],
   "source": [
    "import re\n",
    "\n",
    "text = 'uuyr112@gmail.com, uuyr112@yahoo.co.jp, uuyr112@icloud.com'\n",
    "match = re.match(r'\\w+@[a-z]+\\.com', text)\n",
    "\n",
    "print(match)"
   ]
  },
  {
   "cell_type": "code",
   "execution_count": 94,
   "metadata": {},
   "outputs": [
    {
     "name": "stdout",
     "output_type": "stream",
     "text": [
      "<re.Match object; span=(19, 38), match='uuyr112@yahoo.co.jp'>\n"
     ]
    }
   ],
   "source": [
    "import re\n",
    "\n",
    "text = 'uuyr112@gmail.com, uuyr112@yahoo.co.jp, uuyr112@icloud.com'\n",
    "match = re.search(r'\\w+@[a-z]+\\.co.jp', text)\n",
    "\n",
    "print(match)"
   ]
  },
  {
   "cell_type": "markdown",
   "metadata": {},
   "source": [
    "## 02 reモジュールを利用して欲しいテキストを取得する方法②"
   ]
  },
  {
   "cell_type": "code",
   "execution_count": 95,
   "metadata": {},
   "outputs": [
    {
     "name": "stdout",
     "output_type": "stream",
     "text": [
      "uuyr112@gmail.com\n"
     ]
    }
   ],
   "source": [
    "import re\n",
    "\n",
    "text = 'uuyr112@gmail.com'\n",
    "match = re.fullmatch(r'\\w+@[a-z]+\\.com', text)\n",
    "\n",
    "print(match.group())"
   ]
  },
  {
   "cell_type": "code",
   "execution_count": 96,
   "metadata": {},
   "outputs": [
    {
     "name": "stdout",
     "output_type": "stream",
     "text": [
      "('uuyr112', 'gmail', 'com')\n"
     ]
    }
   ],
   "source": [
    "import re\n",
    "\n",
    "text = 'uuyr112@gmail.com'\n",
    "match = re.match(r'(\\w+)@([a-z]+)\\.([a-z]+)', text)\n",
    "\n",
    "print(match.groups())"
   ]
  },
  {
   "cell_type": "code",
   "execution_count": 97,
   "metadata": {},
   "outputs": [
    {
     "name": "stdout",
     "output_type": "stream",
     "text": [
      "145-Mfre-473\n",
      "145\n",
      "Mfre\n",
      "473\n"
     ]
    }
   ],
   "source": [
    "import re\n",
    "\n",
    "r = re.compile(\"(\\d+)-(\\D*)-([0-9]+)\")\n",
    "m = r.search(\"145-Mfre-473\")\n",
    "\n",
    "print(m.group())\n",
    "print(m.group(1))\n",
    "print(m.group(2))\n",
    "print(m.group(3))"
   ]
  },
  {
   "cell_type": "markdown",
   "metadata": {},
   "source": [
    "## 03 プログラムの全体像の把握＋正規表現を使ってデータの取得"
   ]
  },
  {
   "cell_type": "code",
   "execution_count": 98,
   "metadata": {},
   "outputs": [
    {
     "data": {
      "text/plain": [
       "['https://employment.en-japan.com/',\n",
       " 'https://tenshoku.mynavi.jp/',\n",
       " 'https://doda.jp/',\n",
       " 'https://next.rikunabi.com/lst/',\n",
       " 'https://woman-type.jp/',\n",
       " 'https://job.j-sen.jp/',\n",
       " 'https://mid-tenshoku.com/',\n",
       " 'https://type.jp/']"
      ]
     },
     "execution_count": 98,
     "metadata": {},
     "output_type": "execute_result"
    }
   ],
   "source": [
    "urls"
   ]
  },
  {
   "cell_type": "code",
   "execution_count": 99,
   "metadata": {},
   "outputs": [
    {
     "name": "stdout",
     "output_type": "stream",
     "text": [
      "https://employment.en-japan.com/\n",
      "https://tenshoku.mynavi.jp/\n",
      "https://doda.jp/\n",
      "https://next.rikunabi.com/lst/\n",
      "https://woman-type.jp/\n",
      "https://job.j-sen.jp/\n",
      "https://mid-tenshoku.com/\n",
      "https://type.jp/\n"
     ]
    }
   ],
   "source": [
    "for url in urls:\n",
    "    print(url)"
   ]
  },
  {
   "cell_type": "code",
   "execution_count": 100,
   "metadata": {},
   "outputs": [
    {
     "name": "stdout",
     "output_type": "stream",
     "text": [
      "<re.Match object; span=(6, 32), match='//employment.en-japan.com/'>\n",
      "<re.Match object; span=(6, 27), match='//tenshoku.mynavi.jp/'>\n",
      "<re.Match object; span=(6, 16), match='//doda.jp/'>\n",
      "<re.Match object; span=(6, 26), match='//next.rikunabi.com/'>\n",
      "<re.Match object; span=(6, 22), match='//woman-type.jp/'>\n",
      "<re.Match object; span=(6, 21), match='//job.j-sen.jp/'>\n",
      "<re.Match object; span=(6, 25), match='//mid-tenshoku.com/'>\n",
      "<re.Match object; span=(6, 16), match='//type.jp/'>\n"
     ]
    }
   ],
   "source": [
    "import re\n",
    "\n",
    "# URLリストから各ページのURLを１つずつ取り出す\n",
    "for url in urls:\n",
    "    m = re.search(r'//(.*?)/', url)\n",
    "    print(m)"
   ]
  },
  {
   "cell_type": "code",
   "execution_count": 101,
   "metadata": {},
   "outputs": [
    {
     "data": {
      "text/plain": [
       "'type.jp'"
      ]
     },
     "execution_count": 101,
     "metadata": {},
     "output_type": "execute_result"
    }
   ],
   "source": [
    "import re\n",
    "\n",
    "# URLリストから各ページのURLを１つずつ取り出す\n",
    "for url in urls:\n",
    "    m = re.search(r'//(.*?)/', url) # '//〇〇/'に一致する箇所（ドメイン）を抜き出す\n",
    "    domain = m.group(1)    # '//〇〇/'の'〇〇'に一致する箇所を抜き出し、domainに代入\n",
    "    \n",
    "domain"
   ]
  },
  {
   "cell_type": "markdown",
   "metadata": {},
   "source": [
    "## 04 スライス操作について\n",
    "\n",
    "スライスについて\n",
    "https://takun-physics.net/10945/"
   ]
  },
  {
   "cell_type": "code",
   "execution_count": 102,
   "metadata": {},
   "outputs": [
    {
     "name": "stdout",
     "output_type": "stream",
     "text": [
      "honTu\n",
      "hnu\n"
     ]
    }
   ],
   "source": [
    "s = 'PythonTurorial'\n",
    "\n",
    "print(s[3:8])\n",
    "print(s[3:8:2])"
   ]
  },
  {
   "cell_type": "code",
   "execution_count": 103,
   "metadata": {},
   "outputs": [
    {
     "name": "stdout",
     "output_type": "stream",
     "text": [
      "abcd.com\n"
     ]
    }
   ],
   "source": [
    "s = 'www.abcd.com'\n",
    "\n",
    "print(s[4:])"
   ]
  },
  {
   "cell_type": "markdown",
   "metadata": {},
   "source": [
    "## 05 for - else文について\n",
    "## 06 for - else文でコードを書く\n",
    "\n",
    "if文の解説\n",
    "https://takun-physics.net/4025/\n",
    "\n",
    "for文の解説\n",
    "https://takun-physics.net/4056/"
   ]
  },
  {
   "cell_type": "code",
   "execution_count": 104,
   "metadata": {},
   "outputs": [
    {
     "name": "stdout",
     "output_type": "stream",
     "text": [
      "4がerrorlistの中に含まれていたのでbreakでfor文を抜ける\n"
     ]
    }
   ],
   "source": [
    "errorlist = [2, 3, 4, 5, 7, 9]\n",
    "\n",
    "checklist = [4, 3, 5, 6]\n",
    "\n",
    "for i in checklist:\n",
    "    if i in errorlist:\n",
    "        print(f'{i}がerrorlistの中に含まれていたのでbreakでfor文を抜ける')\n",
    "        break\n",
    "        \n",
    "else:\n",
    "    print('正常終了')"
   ]
  },
  {
   "cell_type": "code",
   "execution_count": 105,
   "metadata": {},
   "outputs": [
    {
     "name": "stdout",
     "output_type": "stream",
     "text": [
      "4がerrorlistの中に含まれていたのでbreakでfor文を抜ける\n",
      "正常終了\n"
     ]
    }
   ],
   "source": [
    "errorlist = [2, 3, 4, 5, 7, 9]\n",
    "\n",
    "checklist = [4, 3, 5, 6]\n",
    "\n",
    "for i in checklist:\n",
    "    if i in errorlist:\n",
    "        print(f'{i}がerrorlistの中に含まれていたのでbreakでfor文を抜ける')\n",
    "        break\n",
    "\n",
    "print('正常終了')"
   ]
  },
  {
   "cell_type": "code",
   "execution_count": 106,
   "metadata": {},
   "outputs": [
    {
     "data": {
      "text/plain": [
       "'type.jp'"
      ]
     },
     "execution_count": 106,
     "metadata": {},
     "output_type": "execute_result"
    }
   ],
   "source": [
    "import re\n",
    "\n",
    "# URLリストから各ページのURLを１つずつ取り出す\n",
    "for url in urls:\n",
    "    m = re.search(r'//(.*?)/', url) # '//〇〇/'に一致する箇所（ドメイン）を抜き出す\n",
    "    domain = m.group(1)    # '//〇〇/'の'〇〇'に一致する箇所を抜き出し、domainに代入\n",
    "    \n",
    "domain"
   ]
  },
  {
   "cell_type": "code",
   "execution_count": 107,
   "metadata": {},
   "outputs": [
    {
     "data": {
      "text/plain": [
       "'.jp'"
      ]
     },
     "execution_count": 107,
     "metadata": {},
     "output_type": "execute_result"
    }
   ],
   "source": [
    "import re\n",
    "\n",
    "# URLリストから各ページのURLを１つずつ取り出す\n",
    "for url in urls:\n",
    "    m = re.search(r'//(.*?)/', url) # '//〇〇/'に一致する箇所（ドメイン）を抜き出す\n",
    "    domain = m.group(1)    # '//〇〇/'の'〇〇'に一致する箇所を抜き出し、domainに代入\n",
    "    domain = domain[4:]\n",
    "\n",
    "domain"
   ]
  },
  {
   "cell_type": "code",
   "execution_count": 108,
   "metadata": {},
   "outputs": [
    {
     "data": {
      "text/plain": [
       "['tenshoku.mynavi.jp', 'doda.jp', 'mynavi-agent.jp', 'www.ecareerfa.jp']"
      ]
     },
     "execution_count": 108,
     "metadata": {},
     "output_type": "execute_result"
    }
   ],
   "source": [
    "domains"
   ]
  },
  {
   "cell_type": "code",
   "execution_count": 109,
   "metadata": {},
   "outputs": [
    {
     "name": "stdout",
     "output_type": "stream",
     "text": [
      "キーワード転職の検索結果には大手のドメインがありましたので除外します。\n"
     ]
    }
   ],
   "source": [
    "import re\n",
    "\n",
    "# URLリストから各ページのURLを１つずつ取り出す\n",
    "for url in urls:\n",
    "    m = re.search(r'//(.*?)/', url) # '//〇〇/'に一致する箇所（ドメイン）を抜き出す\n",
    "    domain = m.group(1)    # '//〇〇/'の'〇〇'に一致する箇所を抜き出し、domainに代入\n",
    "\n",
    "    if 'www' in domains:\n",
    "        domain = domain[4:]\n",
    "    if domain in domains:\n",
    "        print(f'キーワード{\"転職\"}の検索結果には大手のドメインがありましたので除外します。')\n",
    "        break\n",
    "    \n",
    "else:\n",
    "    ok_keywordlist = []\n",
    "    ok_keywordlist.append('転職')                            # 指定ドメインに含まれていないならキーワードをok_keywordlistに追加"
   ]
  },
  {
   "cell_type": "markdown",
   "metadata": {},
   "source": [
    "### ここまでの全体のコード"
   ]
  },
  {
   "cell_type": "code",
   "execution_count": 110,
   "metadata": {},
   "outputs": [
    {
     "name": "stdout",
     "output_type": "stream",
     "text": [
      "キーワード転職の検索結果には大手のドメインがありましたので除外します。\n"
     ]
    }
   ],
   "source": [
    "# ブラウザを自動操作するためseleniumをimport\n",
    "from selenium import webdriver\n",
    "\n",
    "# seleniumでEnterキーを送信する際に使用するのでimport\n",
    "from selenium.webdriver.common.keys import Keys\n",
    "# seleniumでヘッドレスモードを指定するためにimport\n",
    "from selenium.webdriver.chrome.options import Options\n",
    "# 待ち時間を指定するためにtimeをimport\n",
    "import time\n",
    "# 正規表現にマッチする文字列を探すためにreをimport\n",
    "import re\n",
    "\n",
    "# Googleのトップページ\n",
    "URL = 'https://www.google.co.jp'\n",
    "\n",
    "# '検索キーワードリスト.txt'ファイルを読み込み、リストにする\n",
    "# １行ずつ読み込んで改行コードを削除してリストにする\n",
    "\n",
    "with open('検索キーワードリスト.txt',encoding=\"utf-8\") as f:\n",
    "    keywords = [s.rstrip() for s in f.readlines()]\n",
    "    \n",
    "with open('ドメインリスト.txt',encoding=\"utf-8\") as f:\n",
    "    domains = [s.rstrip() for s in f.readlines()]\n",
    "    \n",
    "\n",
    "# seleniumで自動操作するブラウザはGoogleChrome\n",
    "# Optionsオブジェクトを作成\n",
    "options = Options()\n",
    "# ヘッドレスモードを有効にする\n",
    "# options.add_argument('--headless')\n",
    "\n",
    "# ChromeのWebDriverオブジェクトを作成\n",
    "# driver = webdriver.Chrome(options=Options)\n",
    "driver = webdriver.Chrome(options=options, executable_path=r\"C:\\Work\\Python\\20201109_Daytry_Python\\Day5\\google_weak_keyword_search\\chromedriver.exe\")\n",
    "\n",
    "# Googleのトップページを開く\n",
    "# 2秒待機（読み込みのため）\n",
    "driver.get(URL)\n",
    "\n",
    "# 検索テキストボックスの要素をname属性から取得\n",
    "input_element = driver.find_element_by_name('q')\n",
    "\n",
    "# 検索テキストボックスに入力されている文字列を消去\n",
    "input_element.clear()\n",
    "\n",
    "# 検索テキストボックスにキーワードを入力\n",
    "input_element.send_keys('転職')\n",
    "\n",
    "# Enterキーを送信\n",
    "input_element.send_keys(Keys.RETURN)\n",
    "\n",
    "# 2秒待機\n",
    "time.sleep(2)\n",
    "\n",
    "# 各ページのURLを入れるためのリストを指定\n",
    "urls = []\n",
    "\n",
    "# a要素（各ページの1位から10位までのURL）取得\n",
    "objects = driver.find_elements_by_css_selector('div.yuRUbf > a')\n",
    "#rso > div:nth-child(1) > div > div.yuRUbf > a\n",
    "\n",
    "if objects:\n",
    "    for object in objects:\n",
    "        urls.append(object.get_attribute('href'))\n",
    "else:\n",
    "    print('URLが習得できませんでした。')\n",
    "\n",
    "# 各ページのURLをリストに追加\n",
    "# 各ページのURLが取得できなかった場合は警告を出す\n",
    "# 各ページのURLを戻り値に指定\n",
    "\n",
    "# URLリストから各ページのURLを１つずつ取り出す\n",
    "for url in urls:\n",
    "    m = re.search(r'//(.*?)/', url) # '//〇〇/'に一致する箇所（ドメイン）を抜き出す\n",
    "    domain = m.group(1)    # '//〇〇/'の'〇〇'に一致する箇所を抜き出し、domainに代入\n",
    "\n",
    "    if 'www' in domains:\n",
    "        domain = domain[4:]\n",
    "    if domain in domains:\n",
    "        print(f'キーワード{\"転職\"}の検索結果には大手のドメインがありましたので除外します。')\n",
    "        break\n",
    "    \n",
    "else:\n",
    "    ok_keywordlist = []\n",
    "    ok_keywordlist.append('転職')  # 指定ドメインに含まれていないならキーワードをok_keywordlistに追加"
   ]
  },
  {
   "cell_type": "code",
   "execution_count": 111,
   "metadata": {},
   "outputs": [
    {
     "data": {
      "text/plain": [
       "['https://employment.en-japan.com/',\n",
       " 'https://tenshoku.mynavi.jp/',\n",
       " 'https://doda.jp/',\n",
       " 'https://next.rikunabi.com/lst/',\n",
       " 'https://woman-type.jp/',\n",
       " 'https://job.j-sen.jp/',\n",
       " 'https://mid-tenshoku.com/',\n",
       " 'https://type.jp/']"
      ]
     },
     "execution_count": 111,
     "metadata": {},
     "output_type": "execute_result"
    }
   ],
   "source": [
    "#所得URL\n",
    "urls"
   ]
  },
  {
   "cell_type": "markdown",
   "metadata": {},
   "source": [
    "```\n",
    "with open('検索キーワードリスト.txt',encoding=\"utf-8\") as f:\n",
    "    keywords = [s.rstrip() for s in f.readlines()]\n",
    "    \n",
    "with open('ドメインリスト.txt',encoding=\"utf-8\") as f:\n",
    "    domains = [s.rstrip() for s in f.readlines()]\n",
    "```\n"
   ]
  },
  {
   "cell_type": "code",
   "execution_count": 112,
   "metadata": {},
   "outputs": [
    {
     "data": {
      "text/plain": [
       "['tenshoku.mynavi.jp', 'doda.jp', 'mynavi-agent.jp', 'www.ecareerfa.jp']"
      ]
     },
     "execution_count": 112,
     "metadata": {},
     "output_type": "execute_result"
    }
   ],
   "source": [
    "#大手のURL ドメインリスト.txt\n",
    "domains"
   ]
  },
  {
   "cell_type": "code",
   "execution_count": 113,
   "metadata": {},
   "outputs": [
    {
     "data": {
      "text/plain": [
       "['転職',\n",
       " '転職サイト',\n",
       " '転職エージェント',\n",
       " '転職会議',\n",
       " '転職 履歴書',\n",
       " '転職理由',\n",
       " '転職 面接',\n",
       " '転職 志望動機',\n",
       " '転職 大阪',\n",
       " '転職サイト おすすめ']"
      ]
     },
     "execution_count": 113,
     "metadata": {},
     "output_type": "execute_result"
    }
   ],
   "source": [
    "#キーワード 検索キーワードリスト.txt\n",
    "keywords[0:10]"
   ]
  },
  {
   "cell_type": "markdown",
   "metadata": {},
   "source": [
    "# DAY 9 プログラムを関数化してみよう"
   ]
  },
  {
   "cell_type": "markdown",
   "metadata": {},
   "source": [
    "## 01 メイン処理の記述をプログラムの関数化"
   ]
  },
  {
   "cell_type": "code",
   "execution_count": 114,
   "metadata": {},
   "outputs": [
    {
     "name": "stdout",
     "output_type": "stream",
     "text": [
      "転職\n",
      "転職サイト\n",
      "転職エージェント\n",
      "転職会議\n",
      "転職 履歴書\n",
      "転職理由\n",
      "転職 面接\n",
      "転職 志望動機\n",
      "転職 大阪\n",
      "転職サイト おすすめ\n",
      "転職 挨拶\n",
      "転職 愛知\n",
      "転職 アプリ\n",
      "転職 挨拶 メール\n",
      "転職 アパレル\n",
      "転職 挨拶 返信\n",
      "転職 秋田\n",
      "転職 当たり前\n",
      "転職 アフィリエイト\n",
      "転職 アルバイト\n",
      "転職 今\n",
      "転職 it\n",
      "転職 茨城\n",
      "転職 今の時期\n",
      "転職 意味\n",
      "転職 異業種\n",
      "転職 indeed\n",
      "転職 一年目 辛い\n",
      "転職 石川県\n",
      "転職 イベント\n",
      "転職 占い\n",
      "転職 うまくいかない\n",
      "転職 うつ\n",
      "転職 宇都宮\n",
      "転職 web面接\n",
      "転職 webテスト\n",
      "転職 受からない\n",
      "転職 webデザイナー\n",
      "転職 裏切り\n",
      "転職 uターン\n",
      "転職 英語\n",
      "転職 エージェント\n",
      "転職 エンジニア\n",
      "転職 営業\n",
      "転職 en\n",
      "転職 愛媛\n",
      "転職 エントリーシート\n",
      "転職 英語力\n",
      "転職 映画\n",
      "転職 選び方\n",
      "転職 おすすめ\n",
      "転職 岡山\n",
      "転職 沖縄\n",
      "転職 大分\n",
      "転職 大手\n",
      "転職 女\n",
      "転職 多い\n",
      "転職 応募数\n",
      "転職 応募 メール\n",
      "転職 看護師\n",
      "転職 確定申告\n",
      "転職 髪色\n",
      "転職 鹿児島\n",
      "転職 海外\n",
      "転職 香川\n",
      "転職 髪型\n",
      "転職 回数\n",
      "転職 神奈川\n",
      "転職 金沢\n",
      "転職 求人\n",
      "転職 京都\n",
      "転職 期間\n",
      "転職 給与交渉\n",
      "転職 給料\n",
      "転職 決まらない\n",
      "転職 きっかけ\n",
      "転職 キャリアアップ\n",
      "転職 希望年収\n",
      "転職 企業研究\n",
      "転職 口コミ\n",
      "転職 熊本\n",
      "転職 繰り返す\n",
      "転職 空白期間\n",
      "転職 クレジットカード\n",
      "転職 倉敷\n",
      "転職 久留米\n",
      "転職 クリエイティブ\n",
      "転職 空白期間 1年\n",
      "転職 靴\n",
      "転職 健康保険\n",
      "転職 健康診断\n",
      "転職 経理\n",
      "転職 結婚\n",
      "転職 決断\n",
      "転職 掲示板\n",
      "転職 契約社員\n",
      "転職 研究職\n",
      "転職 建築\n",
      "転職 県外\n",
      "転職 コロナ 影響\n",
      "転職 公務員\n",
      "転職 後悔\n",
      "転職 神戸\n",
      "転職 怖い\n",
      "転職 国民健康保険\n",
      "転職 雇用保険\n",
      "転職 厚生年金\n",
      "転職 雇用保険被保険者証\n",
      "転職 工場\n",
      "転職 札幌\n",
      "転職 サイト\n",
      "転職 最終面接\n",
      "転職 埼玉\n",
      "転職 最終面接 結果\n",
      "転職 三重\n",
      "転職 サイト おすすめ\n",
      "転職 探し方\n",
      "転職 佐賀\n",
      "転職 最終面接 通過率\n",
      "転職 資格\n",
      "転職 失敗\n",
      "転職 証明写真\n",
      "転職 診断\n",
      "転職 質問\n",
      "転職 職務経歴書\n",
      "転職 静岡\n",
      "転職 職種\n",
      "転職 初日 挨拶\n",
      "転職 スーツ\n",
      "転職 スキル\n",
      "転職 スカウト\n",
      "転職 ストレス\n",
      "転職 スーツ 女性\n",
      "転職 スーツ ユニクロ\n",
      "転職 進め方\n",
      "転職 スケジュール\n",
      "転職 スキルアップ\n",
      "転職 スキルなし\n",
      "転職 仙台\n",
      "転職 千葉\n",
      "転職 成功\n",
      "転職 正社員\n",
      "転職 se\n",
      "転職 成功率\n",
      "転職 成功体験\n",
      "転職 説明会\n",
      "転職 製造業\n",
      "転職 選考辞退 メール\n",
      "転職 相談\n",
      "転職 送付状\n",
      "転職 卒業証明書\n",
      "転職 総務\n",
      "転職 卒業証明書 不要\n",
      "転職 総合職\n",
      "転職 相談 上司\n",
      "転職 ソニー\n",
      "転職 即戦力\n",
      "転職 速報\n",
      "転職 タイミング\n",
      "転職 退職理由\n",
      "転職 退職金\n",
      "転職 退職\n",
      "転職 タロット\n",
      "転職 短所\n",
      "転職 体験談\n",
      "転職 退職日\n",
      "転職 タイプ\n",
      "転職 大変\n",
      "転職 長所 短所\n",
      "転職 直接応募\n",
      "転職 注意点\n",
      "転職 貯金\n",
      "転職 中国語\n",
      "転職 地方\n",
      "転職 千葉県\n",
      "転職 中小企業\n",
      "転職 茶髪\n",
      "転職 中途\n",
      "転職 辛い\n",
      "転職 疲れた\n",
      "転職 強み\n",
      "転職 つくば\n",
      "転職 つらい\n",
      "転職 伝え方\n",
      "転職 疲れる\n",
      "転職 ついていけない\n",
      "転職 通過率\n",
      "転職 通勤時間\n",
      "転職 適性検査\n",
      "転職 手続き\n",
      "転職 適性検査 ボロボロ\n",
      "転職 テレワーク\n",
      "転職 手順\n",
      "転職 適性検査とは\n",
      "転職 適性検査 落ちる\n",
      "転職 手当\n",
      "転職 適性\n",
      "転職 適性検査 できなかった\n",
      "転職 東京\n",
      "転職 富山\n",
      "転職 徳島\n",
      "転職 栃木\n",
      "転職 toeic\n",
      "転職 とは\n",
      "転職 豊橋\n",
      "転職 特技\n",
      "転職 特別徴収\n",
      "転職 東京 女性\n",
      "転職 名古屋\n",
      "転職 内定 辞退\n",
      "転職 何歳まで\n",
      "転職 流れ\n",
      "転職 悩む\n",
      "転職 内定後\n",
      "転職 内定 保留\n",
      "転職 何年目\n",
      "転職 奈良\n",
      "転職 長野\n",
      "転職 新潟\n",
      "転職 人気\n",
      "転職 入社日\n",
      "転職 二次面接\n",
      "転職 人間関係\n",
      "転職 妊娠\n",
      "転職 入社時期\n",
      "転職 入社 挨拶\n",
      "転職 逃げ\n",
      "転職 二年目\n",
      "転職 沼津\n",
      "転職 ぬいぐるみ\n",
      "転職 沼津 三島\n",
      "転職 沼津市 正社員\n",
      "転職 年齢\n",
      "転職 年収\n",
      "転職 年金\n",
      "転職 年収 下がる\n",
      "転職 年金手帳\n",
      "転職 年末調整\n",
      "転職 年収交渉\n",
      "転職 ネクタイ\n",
      "転職 年齢制限\n",
      "転職 ネイル\n",
      "転職 農業\n",
      "転職 能力不足\n",
      "転職 note\n",
      "転職 能力\n",
      "転職 納税通知書\n",
      "転職 ノーカラージャケット\n",
      "転職 ノウハウ\n",
      "転職 のし\n",
      "転職 ノート\n",
      "転職 農業関係\n",
      "転職 ハローワーク\n",
      "転職 浜松\n",
      "転職 半年\n",
      "転職 派遣\n",
      "転職 初出勤\n",
      "転職 ハイクラス\n",
      "転職 働きながら\n",
      "転職 初めて\n",
      "転職 始め方\n",
      "転職 半年後\n",
      "転職 広島\n",
      "転職 必要書類\n",
      "転職 筆記試験\n",
      "転職 評判\n",
      "転職 引っ越し\n",
      "転職 姫路\n",
      "転職 引き止め\n",
      "転職 引っ越し費用\n",
      "転職 秘書\n",
      "転職 兵庫県\n",
      "転職 福岡\n",
      "転職 不安\n",
      "転職 服装\n",
      "転職 不動産\n",
      "転職 福井\n",
      "転職 封筒\n",
      "転職 副業\n",
      "転職 フリーター\n",
      "転職 不採用 返信\n",
      "転職 富士市\n",
      "転職 返信\n",
      "転職 偏差値\n",
      "転職 ヘッドハンティング\n",
      "転職 平均\n",
      "転職 平均年齢\n",
      "転職 編集\n",
      "転職 平均期間\n",
      "転職 返事\n",
      "転職 平均回数\n",
      "転職 ヘアカラー\n",
      "転職 保険証\n",
      "転職 本\n",
      "転職 方法\n",
      "転職 保険\n",
      "転職 北海道\n",
      "転職 保育園\n",
      "転職 ホワイト\n",
      "転職 本人希望欄\n",
      "転職 保証人\n",
      "転職 保育士\n",
      "転職 マイナビ\n",
      "転職 迷う\n",
      "転職 松山\n",
      "転職 まとめ\n",
      "転職 マーケティング\n",
      "転職 ママ\n",
      "転職 松本市\n",
      "転職 前の会社\n",
      "転職 マイナンバー\n",
      "転職 マッチング\n",
      "転職 未経験\n",
      "転職 宮城\n",
      "転職 宮崎\n",
      "転職 未経験 30代\n",
      "転職 未経験 志望動機\n",
      "転職 水戸\n",
      "転職 身元保証人\n",
      "転職 未経験 おすすめ\n",
      "転職 三重県\n",
      "転職 未経験 20代\n",
      "転職 難しい\n",
      "転職 無職期間\n",
      "転職 無理\n",
      "転職 無資格\n",
      "転職 無職\n",
      "転職 向いている\n",
      "転職 向いてない\n",
      "転職 無能\n",
      "転職 無職期間 保険\n",
      "転職 無職期間 手続き\n",
      "転職 面接 質問\n",
      "転職 面接 自己紹介\n",
      "転職 メール 返信\n",
      "転職 面接 服装\n",
      "転職 メッセージ\n",
      "転職 面接 逆質問\n",
      "転職 面接 スーツ\n",
      "転職 面接 メール\n",
      "転職 面接 流れ\n",
      "転職 盛岡\n",
      "転職 moto\n",
      "転職 モチベーション\n",
      "転職 ものづくり\n",
      "転職 持ち物\n",
      "転職 目的\n",
      "転職 申し訳ない\n",
      "転職 戻りたい\n",
      "転職 求められるスキル\n",
      "転職 もったいない\n",
      "転職 やり方\n",
      "転職 山梨\n",
      "転職 やること\n",
      "転職 山形\n",
      "転職 薬剤師\n",
      "転職 辞めたい\n",
      "転職 辞めてから\n",
      "転職 役員面接\n",
      "転職 家賃補助\n",
      "転職 やめとけ\n",
      "転職 有利 資格\n",
      "転職 勇気\n",
      "転職 夢占い\n",
      "転職 有利\n",
      "転職 有休\n",
      "転職 優先順位\n",
      "転職 有利 スキル\n",
      "転職 有利 職種\n",
      "転職 優良企業\n",
      "転職 憂鬱\n",
      "転職 横浜\n",
      "転職 四日市\n",
      "転職 弱み\n",
      "転職 寄せ書き\n",
      "転職 よくある質問\n",
      "転職 横須賀\n",
      "転職 米子\n",
      "転職 youtube\n",
      "転職 よかった\n",
      "転職 youtuber\n",
      "転職 ランキング\n",
      "転職 楽な仕事\n",
      "転職 楽天\n",
      "転職 ライター\n",
      "転職 ライター 未経験\n",
      "転職 ライフワークバランス\n",
      "転職 ランキング it\n",
      "転職 落選 返信\n",
      "転職 楽になった\n",
      "転職 ランクダウン\n",
      "転職 理由\n",
      "転職 履歴書 写真\n",
      "転職 履歴書 志望動機\n",
      "転職 履歴書 手書き\n",
      "転職 リクナビ\n",
      "転職 リクルート\n",
      "転職 履歴書 職歴\n",
      "転職 履歴書 フォーマット\n",
      "転職 離職票\n",
      "転職 類語\n",
      "転職 ルート営業\n",
      "転職 ルール\n",
      "転職 ルーチンワーク\n",
      "転職 ruby\n",
      "転職 留守電\n",
      "転職 ルート配送\n",
      "転職 ルート営業 志望動機\n",
      "転職 ルーン\n",
      "転職 ルート営業 大阪\n",
      "転職 レジュメ\n",
      "転職 連絡\n",
      "転職 例文\n",
      "転職 連絡 来ない\n",
      "転職 レベル上げ\n",
      "転職 恋愛\n",
      "転職 連絡 返信\n",
      "転職 レベル\n",
      "転職 例\n",
      "転職 レディーススーツ\n",
      "転職 ローン\n",
      "転職 論文\n",
      "転職 労働条件 確認\n",
      "転職 労務\n",
      "転職 ロンダリング\n",
      "転職 ロボット\n",
      "転職 ローン 車\n",
      "転職 論文 例文\n",
      "転職 労力\n",
      "転職 ロードマップ\n",
      "転職 割合\n",
      "転職 和歌山\n",
      "転職 わからない\n",
      "転職 悪いこと\n",
      "転職 ワーママ\n",
      "転職 ワークライフバランス\n",
      "転職 若手\n",
      "転職 ワークポート\n",
      "転職 ワイシャツ\n",
      "転職 若いうち\n",
      "転職 work\n",
      "転職 wordpress\n",
      "転職 woman\n",
      "転職 worker\n",
      "転職 を通じて実現 したい こと\n",
      "転職 ntt\n",
      "転職 nttデータ\n",
      "転職 npo\n",
      "転職 nhk\n",
      "転職 ngo\n",
      "転職 nri\n",
      "転職 ngワード\n",
      "転職 nttデータから\n",
      "転職 ntt西日本\n",
      "転職 nttコムウェア\n",
      "転職 学歴\n",
      "転職 外資\n",
      "転職 外国人\n",
      "転職 学校事務\n",
      "転職 学歴不問\n",
      "転職 がるちゃん\n",
      "転職 画像\n",
      "転職 学校\n",
      "転職 学歴 いつから\n",
      "転職 学歴詐称\n",
      "転職 逆質問\n",
      "転職 業界\n",
      "転職 岐阜\n",
      "転職 業界研究\n",
      "転職 技術職\n",
      "転職 銀行\n",
      "転職 銀行員\n",
      "転職 業界 おすすめ\n",
      "転職 行政書士\n",
      "転職 業界 一覧\n",
      "転職 群馬\n",
      "転職 グリーン\n",
      "転職 グーグル\n",
      "転職 グラフィックデザイナー\n",
      "転職 グローバル\n",
      "転職 グループ会社\n",
      "転職 グループ面接\n",
      "転職 グリー\n",
      "転職 グループディスカッション\n",
      "転職 群馬県 正社員\n",
      "転職 源泉徴収票\n",
      "転職 現状\n",
      "転職 現在\n",
      "転職 ゲーム\n",
      "転職 ゲーム業界\n",
      "転職 現職\n",
      "転職 源泉徴収票 確定申告\n",
      "転職 源泉徴収票 1月入社\n",
      "転職 源泉徴収票 いつ\n",
      "転職 現在の年収\n",
      "転職 合同説明会\n",
      "転職 google\n",
      "転職 合格率\n",
      "転職 御殿場\n",
      "転職 合否\n",
      "転職 合格フラグ\n",
      "転職 ゴルフ\n",
      "転職 語学\n",
      "転職 ご縁\n",
      "転職 合格通知\n",
      "転職 在宅\n",
      "転職 在職中\n",
      "転職 在宅ワーク\n",
      "転職 残業なし\n",
      "転職 罪悪感\n",
      "転職 在籍確認\n",
      "転職 雑誌\n",
      "転職 残業\n",
      "転職 挫折\n",
      "転職 挫折経験\n",
      "転職 女性\n",
      "転職 自己pr\n",
      "転職 住民税\n",
      "転職 自己紹介\n",
      "転職 時期\n",
      "転職 自己分析\n",
      "転職 事務\n",
      "転職 準備\n",
      "転職 住宅ローン\n",
      "転職 事務職\n",
      "転職 逗子\n",
      "転職 ズル休み\n",
      "転職 ずっとある求人\n",
      "転職 ずる休み\n",
      "転職 頭痛\n",
      "転職 ずっと悩む\n",
      "転職 税金\n",
      "転職 税理士\n",
      "転職 税理士事務所\n",
      "転職 絶望\n",
      "転職 前兆\n",
      "転職 前日\n",
      "転職 前前職\n",
      "転職 全滅\n",
      "転職 全落ち\n",
      "転職 ゼネコン\n",
      "転職 増加\n",
      "転職 造園\n",
      "転職 zoom\n",
      "転職 zozo\n",
      "転職 増加 理由\n",
      "転職 造船\n",
      "転職 zozotown\n",
      "転職 贈答品\n",
      "転職 増員\n",
      "転職 第二新卒\n",
      "転職 高卒\n",
      "転職 高収入\n",
      "転職 大学職員\n",
      "転職 大企業\n",
      "転職 妥協\n",
      "転職 男性\n",
      "転職 大企業へ\n",
      "転職 第一志望 落ちた\n",
      "転職 団体職員\n",
      "転職 diy\n",
      "転職 div\n",
      "転職 dic\n",
      "転職 dip\n",
      "転職 di\n",
      "薬剤師 転職 di\n",
      "dior 転職\n",
      "disco 転職\n",
      "dic 面接 転職\n",
      "diva 転職\n",
      "転職 doda\n",
      "転職 疲れ\n",
      "転職 釣り\n",
      "転職 ドラクエウォーク\n",
      "転職 動機\n",
      "転職 同業他社\n",
      "転職 ドライバー\n",
      "転職 ドラクエ3\n",
      "転職 同時進行 何社\n",
      "転職 どうする\n",
      "転職 電話\n",
      "転職 出戻り\n",
      "転職 できない\n",
      "転職 デメリット\n",
      "転職 デザイナー\n",
      "転職 デューダ\n",
      "転職 デザイン\n",
      "転職 電話面談\n",
      "転職 電話相談\n",
      "転職 データサイエンティスト\n",
      "転職 どうやって\n",
      "転職 土日休み\n",
      "転職 バッグ\n",
      "転職 バイト\n",
      "転職 倍率\n",
      "転職 バレる\n",
      "転職 バッグ 女性\n",
      "転職 バナー\n",
      "転職 バッグ ロンシャン\n",
      "転職 バッグ 色\n",
      "転職 媒体\n",
      "転職 バイヤー\n",
      "転職 ビズリーチ\n",
      "転職 美容\n",
      "転職 美容師\n",
      "転職 病院\n",
      "転職 ビルメン\n",
      "転職 ビル管理\n",
      "転職 美容業界\n",
      "転職 病気\n",
      "転職 ビザ更新\n",
      "転職 ビザ\n",
      "転職 ブログ\n",
      "転職 ブランク\n",
      "転職 物流\n",
      "転職 ブラウス\n",
      "転職 ブランク 1ヶ月\n",
      "転職 ブランク 5年\n",
      "転職 ブラックリスト\n",
      "転職 分析\n",
      "転職 ブライダル\n",
      "転職 ブランク 半年\n",
      "転職 ベンチャー\n",
      "転職 勉強\n",
      "転職 別業界\n",
      "転職 弁護士\n",
      "転職 別ポジション 提案\n",
      "転職 ベンチャー企業\n",
      "転職 別ポジション 打診\n",
      "転職 別の言い方\n",
      "転職 勉強 おすすめ\n",
      "転職 ベネッセ\n",
      "転職 ボーナス\n",
      "転職 ボーナス いつから\n",
      "転職 貿易事務\n",
      "転職 簿記\n",
      "転職 募集\n",
      "転職 簿記2級\n",
      "転職 ボーナスあり\n",
      "転職 妨害\n",
      "転職 簿記3級\n",
      "転職 ボーナスなし\n",
      "転職 パート\n",
      "転職 パソナ\n",
      "転職 パンプス\n",
      "転職 パワハラ\n",
      "転職 パソコン\n",
      "転職 パン屋\n",
      "転職 パーマ\n",
      "転職 パワーストーン\n",
      "転職 パナソニック\n",
      "転職 パティシエ\n",
      "転職 ピアス\n",
      "転職 ピーク\n",
      "転職 ピアス 面接\n",
      "転職 ピンとこない\n",
      "転職 ピーク 時期\n",
      "転職 プレゼント\n",
      "転職 プログラマー\n",
      "転職 プレゼント 女性\n",
      "転職 プログラミングスクール\n",
      "転職 プログラマー 未経験\n",
      "転職 プレッシャー\n",
      "転職 プレゼン\n",
      "転職 プロジェクトマネージャー\n",
      "転職 プログラマ\n",
      "転職 プロポーズ\n",
      "転職 ペット\n",
      "転職 ペット業界\n",
      "転職 ペットショップ\n",
      "転職 ペーパードライバー\n",
      "転職 peファンド\n",
      "転職 ペットフード\n",
      "転職 ペーパーテスト\n",
      "転職 ポートフォリオ\n",
      "転職 ポイント\n",
      "転職 ポートフォリオ 作り方\n",
      "転職 ポートフォリオ エンジニア\n",
      "転職 ポジティブ\n",
      "転職 ポートフォリオとは\n",
      "転職 ポートフォリオ デザイナー\n",
      "転職 ポジション\n",
      "転職 ポータブルスキル\n",
      "転職 ポジション打診\n",
      "転職 cm\n",
      "転職 cad\n",
      "転職 green\n",
      "転職 line\n",
      "転職 linkedin\n",
      "転職 lgbt\n",
      "転職 lp\n",
      "転職 ff14\n",
      "転職 ccna\n",
      "転職 line相談\n",
      "転職 ccnp\n",
      "転職 ldh\n",
      "転職 lixil\n",
      "転職 pr\n",
      "転職 qiita\n",
      "転職 q&a\n",
      "転職 qaエンジニア\n",
      "転職 qc検定\n",
      "転職 qms\n",
      "qc検定 1級 転職\n",
      "qc検定 2級 転職\n",
      "qc検定 転職 有利\n",
      "qvc 転職\n",
      "qtnet 転職\n",
      "転職 vba\n",
      "転職 vip\n",
      "転職 vr\n",
      "転職 vmware\n",
      "転職 vc\n",
      "転職 vtuber\n",
      "転職 vb.net\n",
      "転職 vipper\n",
      "転職 vmd\n",
      "転職 web\n",
      "転職 web系\n",
      "転職 女性 20代\n",
      "転職 0回\n",
      "転職 0から\n",
      "転職 0学占い\n",
      "0歳児 転職\n",
      "0歳 転職\n",
      "住民税 0円 転職\n",
      "源泉徴収税額 0円 転職\n",
      "0地点 転職\n",
      "0学占い 精算期 転職\n",
      "0学占い 0地点 転職\n",
      "転職 1ヶ月\n",
      "転職 1年\n",
      "転職 1年目\n",
      "転職 1年未満\n",
      "転職 1000万\n",
      "転職 10回\n",
      "転職 1週間\n",
      "転職 1年後\n",
      "転職 10回 職務経歴書\n",
      "転職 1日目\n",
      "転職 20代\n",
      "転職 2ch\n",
      "転職 2年目\n",
      "転職 20代後半\n",
      "転職 2020\n",
      "転職 2回目\n",
      "転職 25歳\n",
      "転職 2次面接\n",
      "転職 28歳\n",
      "転職 29歳\n",
      "転職 30代\n",
      "転職 35歳\n",
      "転職 30歳\n",
      "転職 3年目\n",
      "転職 3ヶ月\n",
      "転職 30代 未経験\n",
      "転職 3回目\n",
      "転職 30代 女性\n",
      "転職 30代後半\n",
      "転職 35歳まで\n",
      "転職 40代\n",
      "転職 40歳\n",
      "転職 45歳\n",
      "転職 40代 女性\n",
      "転職 4年目\n",
      "転職 4月入社 ボーナス\n",
      "転職 4月\n",
      "転職 4回目\n",
      "転職 40代 男性\n",
      "転職 4月入社\n",
      "転職 50代\n",
      "転職 5ch\n",
      "転職 50歳\n",
      "転職 5月入社\n",
      "転職 5ch まとめ\n",
      "転職 5年目\n",
      "転職 55歳\n",
      "転職 50歳 女性\n",
      "転職 50\n",
      "転職 5回\n",
      "転職 6月\n",
      "転職 60歳\n",
      "転職 600万\n",
      "転職 6ヶ月\n",
      "転職 6月入社\n",
      "転職 6年目\n",
      "転職 6月 住民税\n",
      "転職 600万円\n",
      "転職 6社目\n",
      "転職 6回\n",
      "転職 7月入社\n",
      "転職 7月\n",
      "転職 700万\n",
      "転職 7回\n",
      "転職 7年目\n",
      "転職 7回目\n",
      "転職 700万円\n",
      "転職 7社目\n",
      "転職 700万以上\n",
      "転職 7月から\n",
      "転職 8月入社\n",
      "転職 800万以上\n",
      "転職 8月\n",
      "転職 800万\n",
      "転職 8ヶ月\n",
      "転職 800万円以上\n",
      "転職 8回\n",
      "転職 800万 年収\n",
      "転職 8ヶ月 辞めたい\n",
      "転職 8ヶ月 妊娠\n",
      "転職 9月入社\n",
      "転職 900万\n",
      "転職 9ヶ月 退職\n",
      "転職 9時17時\n",
      "転職 900万以上\n",
      "転職 9月 10月\n",
      "転職 9月入社 ボーナス\n"
     ]
    }
   ],
   "source": [
    "for keyword in keywords:\n",
    "    print(keyword)"
   ]
  },
  {
   "cell_type": "code",
   "execution_count": 115,
   "metadata": {},
   "outputs": [],
   "source": [
    "'''\n",
    "メインの処理\n",
    "Googleの検索エンジンでキーワードを検索\n",
    "指定されたドメインが検索結果の１ページ目に含まれていないキーワードをテキストファイルに出力\n",
    "'''\n",
    "def search(keyword, driver):\n",
    "    \n",
    "    # 検索テキストボックスの要素をname属性から取得\n",
    "    input_element = driver.find_element_by_name('q')\n",
    "\n",
    "    # 検索テキストボックスに入力されている文字列を消去\n",
    "    input_element.clear()\n",
    "\n",
    "    # 検索テキストボックスにキーワードを入力\n",
    "    input_element.send_keys(keyword)\n",
    "\n",
    "    # Enterキーを送信\n",
    "    input_element.send_keys(Keys.RETURN)\n",
    "\n",
    "    # 2秒待機\n",
    "    time.sleep(2)"
   ]
  },
  {
   "cell_type": "code",
   "execution_count": 116,
   "metadata": {},
   "outputs": [],
   "source": [
    "'''\n",
    "検索結果ページの1位から10位までのURLを取得\n",
    "'''\n",
    "\n",
    "def get_url(driver):\n",
    "    # 各ページのURLを入れるためのリストを指定\n",
    "    urls = []\n",
    "\n",
    "    # a要素（各ページの1位から10位までのURL）取得\n",
    "    objects = driver.find_elements_by_css_selector('div.yuRUbf > a')\n",
    "    #rso > div:nth-child(1) > div > div.yuRUbf > a\n",
    "\n",
    "    if objects:\n",
    "        for object in objects:\n",
    "            urls.append(object.get_attribute('href'))\n",
    "    else:\n",
    "        # 各ページのURLが取得できなかった場合は警告を出す\n",
    "        print('URLが習得できませんでした。')\n",
    "    \n",
    "    # 各ページのURLを戻り値に指定\n",
    "    return urls"
   ]
  },
  {
   "cell_type": "code",
   "execution_count": 131,
   "metadata": {},
   "outputs": [],
   "source": [
    "'''\n",
    "URLリストからドメインを取得し、指定ドメインに含まれているかチェック\n",
    "'''\n",
    "\n",
    "def domainchecked(urls, domains, ok_keywordlist,  keyword):\n",
    "    \n",
    "   \n",
    "    # URLリストから各ページのURLを１つずつ取り出す\n",
    "    for url in urls:\n",
    "        m = re.search(r'//(.*?)/', url) # '//〇〇/'に一致する箇所（ドメイン）を抜き出す\n",
    "        domain = m.group(1)    # '//〇〇/'の'〇〇'に一致する箇所を抜き出し、domainに代入\n",
    "\n",
    "        if 'www' in domains:\n",
    "            domain = domain[4:]\n",
    "        if domain in domains:\n",
    "            print(f'キーワード{keyword}の検索結果には大手のドメインがありましたので除外します。')\n",
    "            break\n",
    "\n",
    "    else:\n",
    "#         ok_keywordlist = []\n",
    "        ok_keywordlist.append(keyword)  # 指定ドメインに含まれていないならキーワードをok_keywordlistに追加\n",
    "\n",
    "    # ドメインチェック済みのキーワードを戻り値に指定\n",
    "    return ok_keywordlist"
   ]
  },
  {
   "cell_type": "markdown",
   "metadata": {},
   "source": [
    "関数の設定終了\n",
    "\n",
    "## 03 プログラム実行時のエラーの解決\n",
    "\n",
    "ひとまずテストを行う。\n",
    "\n",
    "検索キーワードリスト_test.txtの検索キーワードを少なくしておく"
   ]
  },
  {
   "cell_type": "code",
   "execution_count": 136,
   "metadata": {},
   "outputs": [],
   "source": [
    "with open('検索キーワードリスト_test.txt',encoding=\"utf-8\") as f:\n",
    "    keywords = [s.rstrip() for s in f.readlines()]\n",
    "    \n",
    "with open('ドメインリスト.txt',encoding=\"utf-8\") as f:\n",
    "    domains = [s.rstrip() for s in f.readlines()]"
   ]
  },
  {
   "cell_type": "code",
   "execution_count": 137,
   "metadata": {},
   "outputs": [
    {
     "name": "stdout",
     "output_type": "stream",
     "text": [
      "転職\n",
      "転職サイト\n",
      "転職エージェント\n",
      "転職会議\n",
      "転職 履歴書\n",
      "転職理由\n",
      "転職 面接\n",
      "転職 志望動機\n",
      "転職 大阪\n",
      "転職サイト おすすめ\n",
      "転職 挨拶\n",
      "転職 愛知\n",
      "転職 アプリ\n"
     ]
    }
   ],
   "source": [
    "for keyword in keywords:\n",
    "    print(keyword)"
   ]
  },
  {
   "cell_type": "code",
   "execution_count": 135,
   "metadata": {},
   "outputs": [
    {
     "name": "stdout",
     "output_type": "stream",
     "text": [
      "キーワード転職の検索結果には大手のドメインがありましたので除外します。\n",
      "キーワード転職サイトの検索結果には大手のドメインがありましたので除外します。\n",
      "キーワード転職エージェントの検索結果には大手のドメインがありましたので除外します。\n",
      "キーワード転職会議の検索結果には大手のドメインがありましたので除外します。\n",
      "キーワード転職 履歴書の検索結果には大手のドメインがありましたので除外します。\n",
      "キーワード転職理由の検索結果には大手のドメインがありましたので除外します。\n",
      "キーワード転職 面接の検索結果には大手のドメインがありましたので除外します。\n",
      "キーワード転職 志望動機の検索結果には大手のドメインがありましたので除外します。\n",
      "キーワード転職 大阪の検索結果には大手のドメインがありましたので除外します。\n"
     ]
    }
   ],
   "source": [
    "#ドライバーを動かさないと動作しないため以下3行を書く\n",
    "options = Options()\n",
    "driver = webdriver.Chrome(options=options, executable_path=r\"C:\\Work\\Python\\20201109_Daytry_Python\\Day5\\google_weak_keyword_search\\chromedriver.exe\")\n",
    "driver.get(URL)\n",
    "\n",
    "ok_keywordlist = []\n",
    "\n",
    "#検索キーワードを1つずつ取り出す\n",
    "for keyword in keywords:\n",
    "    search(keyword, driver) #search関数の実行\n",
    "    urls = get_url(driver)\n",
    "    weak_keywordlist = domainchecked(urls, domains, ok_keywordlist, keyword)\n",
    "    \n",
    "driver.quit()"
   ]
  },
  {
   "cell_type": "code",
   "execution_count": 139,
   "metadata": {},
   "outputs": [
    {
     "data": {
      "text/plain": [
       "['転職サイト おすすめ', '転職 挨拶', '転職 愛知', '転職 アプリ']"
      ]
     },
     "execution_count": 139,
     "metadata": {},
     "output_type": "execute_result"
    }
   ],
   "source": [
    "weak_keywordlist"
   ]
  },
  {
   "cell_type": "code",
   "execution_count": 148,
   "metadata": {},
   "outputs": [
    {
     "data": {
      "text/plain": [
       "'転職サイト おすすめ\\n転職 挨拶\\n転職 愛知\\n転職 アプリ'"
      ]
     },
     "execution_count": 148,
     "metadata": {},
     "output_type": "execute_result"
    }
   ],
   "source": [
    "#リストを文字列にして結合している\n",
    "\n",
    "'\\n'.join(weak_keywordlist)"
   ]
  },
  {
   "cell_type": "code",
   "execution_count": 147,
   "metadata": {},
   "outputs": [],
   "source": [
    "with open('結果.txt', 'w') as f:\n",
    "    f.write('\\n'.join(weak_keywordlist))"
   ]
  },
  {
   "cell_type": "markdown",
   "metadata": {},
   "source": [
    "## 04 完成したコードの実行\n",
    "## 05 assert文での簡易テストとプログラムの完成\n",
    "\n",
    "今までのをまとめる。"
   ]
  },
  {
   "cell_type": "code",
   "execution_count": 202,
   "metadata": {},
   "outputs": [
    {
     "name": "stdout",
     "output_type": "stream",
     "text": [
      "転職\n",
      "転職 - Google 検索\n",
      "転職\n",
      "['転職']\n",
      "転職\n",
      "キーワード「転職」の検索結果には大手ドメインがありましたので除外します。\n",
      "転職サイト\n",
      "転職サイト - Google 検索\n",
      "転職サイト\n",
      "['転職サイト']\n",
      "転職サイト\n",
      "キーワード「転職サイト」の検索結果には大手ドメインがありましたので除外します。\n",
      "転職エージェント\n",
      "転職エージェント - Google 検索\n",
      "転職エージェント\n",
      "['転職エージェント']\n",
      "転職エージェント\n",
      "キーワード「転職エージェント」の検索結果には大手ドメインがありましたので除外します。\n",
      "転職会議\n",
      "転職会議 - Google 検索\n",
      "転職会議\n",
      "['転職会議']\n",
      "転職会議\n",
      "転職 履歴書\n",
      "転職 履歴書 - Google 検索\n",
      "転職\n",
      "['転職', '履歴書']\n",
      "転職 履歴書\n",
      "キーワード「転職 履歴書」の検索結果には大手ドメインがありましたので除外します。\n",
      "転職理由\n",
      "転職理由 - Google 検索\n",
      "転職理由\n",
      "['転職理由']\n",
      "転職理由\n",
      "キーワード「転職理由」の検索結果には大手ドメインがありましたので除外します。\n",
      "転職 面接\n",
      "転職 面接 - Google 検索\n",
      "転職\n",
      "['転職', '面接']\n",
      "転職 面接\n",
      "キーワード「転職 面接」の検索結果には大手ドメインがありましたので除外します。\n",
      "転職 志望動機\n",
      "転職 志望動機 - Google 検索\n",
      "転職\n",
      "['転職', '志望動機']\n",
      "転職 志望動機\n",
      "キーワード「転職 志望動機」の検索結果には大手ドメインがありましたので除外します。\n",
      "転職 大阪\n",
      "転職 大阪 - Google 検索\n",
      "転職\n",
      "['転職', '大阪']\n",
      "転職 大阪\n",
      "キーワード「転職 大阪」の検索結果には大手ドメインがありましたので除外します。\n",
      "転職サイト おすすめ\n",
      "転職サイト おすすめ - Google 検索\n",
      "転職サイト\n",
      "['転職サイト', 'おすすめ']\n",
      "転職サイト おすすめ\n",
      "転職 挨拶\n",
      "転職 挨拶 - Google 検索\n",
      "転職\n",
      "['転職', '挨拶']\n",
      "転職 挨拶\n",
      "キーワード「転職 挨拶」の検索結果には大手ドメインがありましたので除外します。\n",
      "転職 愛知\n",
      "転職 愛知 - Google 検索\n",
      "転職\n",
      "['転職', '愛知']\n",
      "転職 愛知\n",
      "キーワード「転職 愛知」の検索結果には大手ドメインがありましたので除外します。\n",
      "転職 アプリ\n",
      "転職 アプリ - Google 検索\n",
      "転職\n",
      "['転職', 'アプリ']\n",
      "転職 アプリ\n"
     ]
    }
   ],
   "source": [
    "# ブラウザを自動操作するためseleniumをimport\n",
    "from selenium import webdriver\n",
    "# seleniumでEnterキーを送信する際に使用するのでimport\n",
    "from selenium.webdriver.common.keys import Keys\n",
    "# seleniumでヘッドレスモードを指定するためにimport\n",
    "from selenium.webdriver.chrome.options import Options\n",
    "# 待ち時間を指定するためにtimeをimport\n",
    "import time\n",
    "# 正規表現にマッチする文字列を探すためにreをimport\n",
    "import re\n",
    "\n",
    "# Googleのトップページ\n",
    "URL = 'https://www.google.co.jp'\n",
    "URL_TITLE = 'Google'  # Googleのトップページに遷移したらタイトルに'Google'が含まれているか確認するために指定\n",
    "\n",
    "def main():\n",
    "    '''\n",
    "    メインの処理\n",
    "    Googleの検索エンジンでキーワードを検索\n",
    "    指定されたドメインが検索結果の１ページ目に含まれていないキーワードをテキストファイルに出力\n",
    "    '''\n",
    "\n",
    "    with open('検索キーワードリスト_test.txt',encoding=\"utf-8\") as f:\n",
    "        keywords = [s.rstrip() for s in f.readlines()]\n",
    "    \n",
    "    with open('ドメインリスト.txt',encoding=\"utf-8\") as f:\n",
    "        domains = [s.rstrip() for s in f.readlines()]\n",
    "        \n",
    "    # seleniumで自動操作するブラウザはGoogleChrome\n",
    "    options = Options()  # Optionsオブジェクトを作成\n",
    "\n",
    "    # ヘッドレスモードを有効にする\n",
    "#     options.add_argument('--headless')\n",
    "\n",
    "    driver = webdriver.Chrome(options=options, executable_path=r\"C:\\Work\\Python\\20201109_Daytry_Python\\Day5\\google_weak_keyword_search\\chromedriver.exe\")\n",
    "  # ChromeのWebDriverオブジェクトを作成\n",
    "\n",
    "    # driver = webdriver.Chrome(options=options, executable_path=r\"D:¥Program¥chromedriver_win32¥chromedriver.exe\")\n",
    "\n",
    "    driver.get(URL)  # Googleのトップページを開く\n",
    "    time.sleep(2)  # 2秒待機（読み込みのため）\n",
    "\n",
    "    assert URL_TITLE == driver.title  # タイトルに'Google'が含まれていることを確認\n",
    "\n",
    "    ok_keywordlist = []\n",
    "    for keyword in keywords:  # 検索キーワードを１つずつ取り出す\n",
    "        search(keyword, driver)  # search関数実行\n",
    "        urls = get_url(driver)  # get_url関数を実行し、戻り値をurlsに代入\n",
    "        weak_keywordlist = domain_checked(urls, domains, ok_keywordlist, keyword)  # domain_checked関数を実行し、戻り値をok_keywordlistに代入\n",
    "\n",
    "    # '結果.txt'という名前を付けて、ドメインチェックしたキーワードをファイルに書き込む\n",
    "    with open('結果.txt', 'w') as f:\n",
    "        f.write('\\n'.join(weak_keywordlist))  # ドメインチェック済みのキーワードを１行ずつ保存\n",
    "\n",
    "    driver.quit()  # ブラウザーを閉じる\n",
    "\n",
    "def search(keyword, driver_item):\n",
    "    '''\n",
    "    検索テキストボックスに検索キーワードを入力し、検索する\n",
    "    '''\n",
    "    input_element = driver_item.find_element_by_name('q')  # 検索テキストボックスの要素をname属性から取得\n",
    "\n",
    "    input_element.clear()  # 検索テキストボックスに入力されている文字列を消去\n",
    "\n",
    "    input_element.send_keys(keyword)  # 検索テキストボックスにキーワードを入力\n",
    "\n",
    "    input_element.send_keys(Keys.RETURN)  # Enterキーを送信\n",
    "\n",
    "    time.sleep(2)  # 2秒待機\n",
    "    \n",
    "    print('======')\n",
    "    print(keyword)\n",
    "    print(driver_item.title)\n",
    "    print(driver_item.title.split(' ')[0])\n",
    "    print(driver_item.title.split(' ')[:-3])\n",
    "    print(' '.join(driver_item.title.split(' ')[:-3]))\n",
    "    print('======')\n",
    "\n",
    "\n",
    "    assert keyword == ' '.join(driver_item.title.split(' ')[:-3])  # タイトルにkeywordが含まれていることを確認\n",
    "\n",
    "def get_url(driver):\n",
    "    '''\n",
    "    検索結果ページの1位から10位までのURLを取得\n",
    "    '''\n",
    "\n",
    "    urls = []  # 各ページのURLを入れるためのリストを指定\n",
    "    objects = driver.find_elements_by_css_selector('div.yuRUbf > a')  # a要素（各ページの1位から10位までのURL）取得\n",
    "    # objects = driver.find_elements_by_css_selector('.rc > .r > a')\n",
    "\n",
    "    if objects:\n",
    "        for object in objects:\n",
    "            urls.append(object.get_attribute('href'))  # 各ページのURLをリストに追加\n",
    "    else:\n",
    "        print('URLが取得できませんでした')  # 各ページのURLが取得できなかった場合は警告を出す\n",
    "    return urls  # 各ページのURLを戻り値に指定\n",
    "\n",
    "def domain_checked(urls, domains, ok_keywordlist, keyword):\n",
    "    '''\n",
    "    URLリストからドメインを取得し、指定ドメインに含まれているかチェック\n",
    "    '''\n",
    "    # URLリストから各ページのURLを１つずつ取り出す\n",
    "    for url in urls:\n",
    "        m = re.search(r'//(.*?)/', url)  # '//〇〇/'に一致する箇所（ドメイン）を抜き出す\n",
    "        domain = m.group(1)  # '//〇〇/'の'〇〇'に一致する箇所を抜き出し、domainに代入\n",
    "        if 'www.' in domain:  # ドメインに'www.'が含まれているかチェック\n",
    "            domain = domain[4:]  # 含まれているなら'www.'を除去\n",
    "        if domain in domains:  # 各ページのドメインが指定ドメインに含まれているかチェック\n",
    "            # 含まれているなら警告を出す\n",
    "            print(f'キーワード「{keyword}」の検索結果には大手ドメインがありましたので除外します。')\n",
    "            break  # １つでも含まれているなら他はチェックする必要がないので関数を終了\n",
    "    else:\n",
    "        ok_keywordlist.append(keyword)  # 指定ドメインに含まれていないならキーワードをokkeywordlistに追加\n",
    "    return ok_keywordlist  # ドメインチェック済みのキーワードを戻り値に指定\n",
    "\n",
    "if __name__ == \"__main__\":\n",
    "    main()  # main関数を実行\n"
   ]
  },
  {
   "cell_type": "code",
   "execution_count": 151,
   "metadata": {},
   "outputs": [
    {
     "data": {
      "text/plain": [
       "'__main__'"
      ]
     },
     "execution_count": 151,
     "metadata": {},
     "output_type": "execute_result"
    }
   ],
   "source": [
    "__name__"
   ]
  },
  {
   "cell_type": "code",
   "execution_count": 161,
   "metadata": {},
   "outputs": [
    {
     "data": {
      "text/plain": [
       "'Google'"
      ]
     },
     "execution_count": 161,
     "metadata": {},
     "output_type": "execute_result"
    }
   ],
   "source": [
    "#ドライバーを動かさないと動作しないため以下3行を書く\n",
    "options = Options()\n",
    "driver = webdriver.Chrome(options=options, executable_path=r\"C:\\Work\\Python\\20201109_Daytry_Python\\Day5\\google_weak_keyword_search\\chromedriver.exe\")\n",
    "driver.get(URL)\n",
    "\n",
    "driver.title"
   ]
  },
  {
   "cell_type": "code",
   "execution_count": 175,
   "metadata": {},
   "outputs": [
    {
     "data": {
      "text/plain": [
       "['転職', '履歴書']"
      ]
     },
     "execution_count": 175,
     "metadata": {},
     "output_type": "execute_result"
    }
   ],
   "source": [
    "title = '転職 履歴書 - Google 検索'\n",
    "title.split(' ')[:-3]"
   ]
  },
  {
   "cell_type": "code",
   "execution_count": 187,
   "metadata": {},
   "outputs": [
    {
     "name": "stdout",
     "output_type": "stream",
     "text": [
      " 転職 履歴書\n"
     ]
    }
   ],
   "source": [
    "a = ''\n",
    "for item in title.split(' ')[:-3]:\n",
    "    a +=  ' ' + item\n",
    "\n",
    "print(a)"
   ]
  },
  {
   "cell_type": "code",
   "execution_count": 199,
   "metadata": {},
   "outputs": [
    {
     "data": {
      "text/plain": [
       "'転職 履歴書'"
      ]
     },
     "execution_count": 199,
     "metadata": {},
     "output_type": "execute_result"
    }
   ],
   "source": [
    "title = '転職 履歴書 - Google 検索'\n",
    "title.split(' ')[:-3]\n",
    "\n",
    "s = ' '.join(title.split(' ')[:-3])\n",
    "s"
   ]
  },
  {
   "cell_type": "markdown",
   "metadata": {},
   "source": [
    "以下のように引数を「driver_item」としました。\n",
    "引数でのローカル変数と、グローバル変数を明確に分けるためです。\n",
    "\n",
    "```\n",
    "def search(keyword, driver_item):\n",
    "    '''\n",
    "    検索テキストボックスに検索キーワードを入力し、検索する\n",
    "    '''\n",
    "    input_element = driver_item.find_element_by_name('q')  # 検索テキストボックスの要素をname属性から取得\n",
    "\n",
    "    input_element.clear()  # 検索テキストボックスに入力されている文字列を消去\n",
    "\n",
    "    input_element.send_keys(keyword)  # 検索テキストボックスにキーワードを入力\n",
    "\n",
    "    input_element.send_keys(Keys.RETURN)  # Enterキーを送信\n",
    "\n",
    "    time.sleep(2)  # 2秒待機\n",
    "\n",
    "    print(keyword)\n",
    "    print(driver_item.title)\n",
    "    print(driver_item.title.split(' ')[0])\n",
    "    \n",
    "    assert keyword == driver.title.split(' ')[0]  # タイトルにkeywordが含まれていることを確認\n",
    "\n",
    "```\n"
   ]
  },
  {
   "cell_type": "code",
   "execution_count": null,
   "metadata": {},
   "outputs": [],
   "source": []
  }
 ],
 "metadata": {
  "kernelspec": {
   "display_name": "Python 3",
   "language": "python",
   "name": "python3"
  },
  "language_info": {
   "codemirror_mode": {
    "name": "ipython",
    "version": 3
   },
   "file_extension": ".py",
   "mimetype": "text/x-python",
   "name": "python",
   "nbconvert_exporter": "python",
   "pygments_lexer": "ipython3",
   "version": "3.8.4"
  }
 },
 "nbformat": 4,
 "nbformat_minor": 4
}
